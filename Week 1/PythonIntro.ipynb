{
 "cells": [
  {
   "cell_type": "markdown",
   "id": "57853409",
   "metadata": {
    "slideshow": {
     "slide_type": "slide"
    }
   },
   "source": [
    "# Data Science - Python Intro\n",
    "\n",
    "## Installatie\n",
    "\n",
    "Om Python en Jupyter Notebook te installeren volg je [deze link](https://www.anaconda.com/products/individual#windows).\n",
    "Anaconda is een bundle met Python en een groot aantal extra packages die vaak gebruikt worden bij Data Science en Machine Learning.\n",
    "Download de executable en installeer het.\n",
    "Hierbij mogen de default opties gekozen worden.\n",
    "\n",
    "Ook al heeft Anaconda zijn eigen package manager (conda), niet alle packages kunnen door deze correct gevonden worden. Daarom moet je ook nog pip installeren door middel van onderstaande commando.\n",
    "\n",
    "Dit is bijgetypt als voorbeeld \n",
    "\n",
    "bla\n",
    "bla bla\n",
    "\n",
    "bla bla bla\n",
    "\n",
    "**dit is in het vet**\n",
    "\n",
    "* optie 1\n",
    "* optie 2"
   ]
  },
  {
   "cell_type": "code",
   "execution_count": 1,
   "id": "6bcce111",
   "metadata": {},
   "outputs": [
    {
     "name": "stdout",
     "output_type": "stream",
     "text": [
      "^C\n"
     ]
    }
   ],
   "source": [
    "!conda install pip"
   ]
  },
  {
   "cell_type": "markdown",
   "id": "6471b022",
   "metadata": {},
   "source": [
    "Clone nu de github repo waar deze file in staat. Deze kan gevonden worden via [de link, pas dit aan naar de repo van dit jaar](TODO).\n",
    "Open nu een commandprompt (cmd.exe) en navigeer met behulp van cd naar de folder waar je de repo geplaatst hebt.\n",
    "Voer op die plaats het commando **jupyter notebook** uit.\n",
    "Dit opent een webpagina met de inhoud van je folder waar je zat.\n",
    "Open nu het notebook dat we hier gebruiken (Deze file noemt **03_PythonIntro**).\n",
    "\n",
    "Op dit punt zou je hetzelfde moeten zien als hier staat."
   ]
  },
  {
   "cell_type": "markdown",
   "id": "333222cf",
   "metadata": {},
   "source": [
    "## Jupyter notebook\n",
    "\n",
    "Jupyter notebook maakt het mogelijk om hier zowel de opgave, uitleg als code te tonen en uit te voeren.\n",
    "Hiervoor wordt er gebruik gemaakt van cellen.\n",
    "Ook is het mogelijk om zowel code als tekstuele vragen te stellen.\n",
    "\n",
    "Een korte intro over jupyter notebook kan je [hier](https://realpython.com/jupyter-notebook-introduction/) lezen.\n",
    "In grote lijnen wordt er gewerkt met cellen. Het type van de cel bepaalt of het python-code of plain text (markdown) bevat.\n",
    "Cellen worden automatisch toegevoegd na het uitvoeren van de laatste cel maar je kan ook er manueel toevoegen onder het menu-item insert of door gebruik te maken van de knoppen \"a\" en \"b\" (Hierbij moet je wel eerst uit de cell gaan door middel van Esc). Met deze laatste methode kan je op de gewenste plaats cellen gaan toevoegen.\n",
    "\n",
    "Uitvoeren van een code cel zorgt ervoor dat de python code die in die cell staat uitgevoerd wordt. In het geval van een markdown cell wordt de tekst gerendered.\n",
    "Om 1 cell uit te voeren is \"shift+enter\" de gemakkeljkste methode omdat dan de onderstaande cell automatisch geselecteerd wordt. Deze manier wordt ook gebruikt bij het pijltje met de tekst \"Run\" bovenaan.\n",
    "Andere methoden kan je vinden onder het menu \"Cell\" waarbij je bijvoorbeeld ook van boven naar beneden alle cellen kan laten uitvoeren.\n",
    "Als je ooit in een situatie zit waar je een endless loop gemaakt hebt of je code lijkt vast te zitten, kan je onder kernel een aantal manieren vinden om het uitvoeren te stoppen. \n",
    "Merk op dat als je de kernel stopt, je dan ook alle variabelen en objecten kwijt bent en je opnieuw de code vanin het begin moet uitvoeren.\n",
    "\n",
    "**Let op:** Bij het pushen naar github van de code is het aangeraden om de output te verwijderen die je hebt gegenereerd.\n",
    "Dit kan de bestandsgrootte sterk reduceren en vermijdt conflicten. \n",
    "Hierbij is het dan wel nodig om ervoor te zorgen dat je code van boven naar beneden kan uitgevoerd worden (met de knop run-all)."
   ]
  },
  {
   "cell_type": "markdown",
   "id": "114f655f",
   "metadata": {},
   "source": [
    "Met b maak je een nieuwe cell (standaard code cell)\n",
    "\n",
    "maak deze markdown met m\n",
    "\n",
    "a maakt een cell boven de huidige cell\n",
    "\n",
    "een cell wegdoen doen, dan gebruik je x\n",
    "\n",
    "indien je per ongeluk delete\n",
    "* plak terug met v\n",
    "* undo deletion met z\n",
    "\n",
    "eventueel moet je ESC gebruiken om te stoppen met editen\n",
    "\n",
    "shift+enter om een cell uit te voeren"
   ]
  },
  {
   "cell_type": "markdown",
   "id": "1ccc490f",
   "metadata": {},
   "source": [
    "## Python intro\n",
    "\n",
    "Python is een open-source programmeertaal ontwikkeld en ontworpen begin jaren 90. \n",
    "Net zoals C# is het een object-georienteerde programmeertaal waarin gebruik gemaakt wordt van klassen en objecten voor structuur aan te brengen in je code. \n",
    "Het doel van Python is om een zeer leesbare programmeertaal te zijn en code lijkt sterk op pseudocode. \n",
    "In dit vak werken we met Python versie 3.x. \n",
    "De syntax vanaf versie 3 is licht afwijkend met die van Python versie 2.x.\n",
    "\n",
    "Het grootste verschil met C# is dat Python een scripting taal is die gebruik maakt van een interpreter in plaats van een compiler. Dit houdt in dat er geen compile/build step is. Een file of een tekst met Python code wordt door de interpreter ingelezen en lijn voor lijn uitgevoerd.\n",
    "\n",
    "Python code kan\n",
    " * Rechtstreeks in de commandline uitgevoerd worden. Voer hiervoor het commando \"python\" uit. Dit start de interpreter waar er berekeningen kunnen uitgevoerd worden.\n",
    " * Je kan een file aanmaken waar dezelfde lijnen in staan. Wanneer je nu navigeert naar je directory in commandline en daar het commando \"python **filename**.py\" uitvoert, dan krijg je hetzelfde resultaat. Merk op dat files met python code standaard de extensie .py hebben maar dat dit niet strikt noodzakelijk is.\n",
    " * Daarnaast kan je net hetzelfde doen in een cell van jupyter notebook"
   ]
  },
  {
   "cell_type": "code",
   "execution_count": 3,
   "id": "760aa21a",
   "metadata": {},
   "outputs": [
    {
     "name": "stdout",
     "output_type": "stream",
     "text": [
      "205\n"
     ]
    }
   ],
   "source": [
    "a = 5\n",
    "b = 10\n",
    "c = 20\n",
    "\n",
    "d = a + b * c\n",
    "print(d)\n",
    "\n",
    "# dit is commentaar\n",
    "# multiline bestaat typisch niet\n",
    "'''\n",
    "    dit is wat vals spelen\n",
    "'''\n",
    "\n",
    "d = a + b"
   ]
  },
  {
   "cell_type": "markdown",
   "id": "e965da90",
   "metadata": {},
   "source": [
    "De grootste verschillen met C# zijn:\n",
    "* Een scripting taal dus geen compileer stap nodig (het kan wel gedaan worden voor de snelheid van het programma te verbeteren)\n",
    "* Dynamisch typecasting dus moet niet steeds het type meegegeven worden bij het aanmaken van variabele, definieren van functies en klassen\n",
    "* Indentation ipv van accolades voor code blocks\n",
    "\n",
    "Nu ga ik een hele reeks zaken overlopen om de basis van python te leren kennen. \n",
    "Merk op dat in de loop van dit vak we python gaan gebruiken op een vereenvoudigde manier dus is het niet nodig om alle details te kennen van hoe python werkt."
   ]
  },
  {
   "cell_type": "code",
   "execution_count": 40,
   "id": "0db7bfff",
   "metadata": {},
   "outputs": [
    {
     "name": "stdout",
     "output_type": "stream",
     "text": [
      "[0, 1, 2, 'a', 3, 4, 'hello', 'world', 'b', 0, 1, 0, 1]\n",
      "{'key1': 19, 'key2': 10, 'key3': 20}\n",
      "(5, 10)\n",
      "5 10\n",
      "5\t10\n",
      "test test 5 test\n",
      "0\n",
      "1\n",
      "2\n",
      "3\n",
      "4\n",
      "0 0\n",
      "1 10\n",
      "2 20\n",
      "3 30\n",
      "4 40\n",
      "10\n",
      "10 20\n"
     ]
    }
   ],
   "source": [
    "# python is not strongly typed (types mogen wisselen en zijn maar belangrijk bij gebruik van de variabelen)\n",
    "import enum\n",
    "\n",
    "\n",
    "a = 5.2\n",
    "a = \"dit is een tekst\"\n",
    "a = int(7.3)\n",
    "\n",
    "len(\"Hello world\")\n",
    "\n",
    "# list\n",
    "lijst = [0, 1,2,3,4, \"hello\", \"world\"]\n",
    "lijst[2]\n",
    "lijst[-2]\n",
    "lijst[3:5]\n",
    "# min:max:step   -> wordt slicing genoemd , niets vermeld is ofwel begin voor min, einde voor max of 1 voor step\n",
    "lijst[1::2]\n",
    "lijst.insert(3, \"a\")\n",
    "lijst.append(\"b\")\n",
    "lijst.extend([0, 1])\n",
    "lijst = lijst + [0, 1]\n",
    "print(lijst)\n",
    "\n",
    "# dictionary\n",
    "dictionary = {\"key1\": 5, \"key2\": 10}\n",
    "dictionary[\"key1\"] = 19\n",
    "dictionary[\"key3\"] = 20\n",
    "print(dictionary)\n",
    "\n",
    "# tuples\n",
    "# deze getallen haren bij elkaar\n",
    "tuplevoorbeeld = (5,10)\n",
    "print(tuplevoorbeeld)\n",
    "index0, index1 = tuplevoorbeeld\n",
    "print(index0, index1)\n",
    "# typisch gebruikt om meerdere waarden te returnen uit een functie\n",
    "\n",
    "print(index0, index1, sep='\\t')\n",
    "print(f'test test {index0} test')\n",
    "\n",
    "# input van command line\n",
    "# input()\n",
    "\n",
    "# iets verandere van type\n",
    "#a = str(index0) #float\n",
    "#'5' + (8)\n",
    "\n",
    "if a > b:\n",
    "    # bla bla bla\n",
    "    pass\n",
    "elif a == b:\n",
    "    print(\"hier\")\n",
    "else:\n",
    "    pass\n",
    "\n",
    "for i in range(5):\n",
    "    print(i)\n",
    "\n",
    "for idx, i in enumerate(range(5)):\n",
    "    print(idx, i*10)\n",
    "\n",
    "while(b > 0):\n",
    "    print(b)\n",
    "    b -= 1   # geen -- en ++ maar -= en += wel\n",
    "\n",
    "# def functie\n",
    "def find_len(l):\n",
    "    return len(l)\n",
    "\n",
    "print(find_len(range(10)))\n",
    "\n",
    "# classes\n",
    "class Person:\n",
    "\n",
    "    def __init__(self, name, age = 0, address = ''):\n",
    "        self.age= age\n",
    "        self.name = name\n",
    "        self.address = address\n",
    "        pass\n",
    "\n",
    "persoon = Person(\"test1\", 10)\n",
    "persoon2 = Person(\"test2\", 20)\n",
    "\n",
    "print(persoon.age, persoon2.age)\n",
    "\n",
    "# overerving\n",
    "class Student(Person):\n",
    "\n",
    "    def __init__(self, name, age=0, address=''):\n",
    "        super().__init__(name, age, address)\n"
   ]
  },
  {
   "cell_type": "markdown",
   "id": "f75f3df9",
   "metadata": {},
   "source": [
    "### Oefening\n",
    "\n",
    "* Maak een klasse Persoon aan, die minstens een naam en leeftijd en adres heeft.\n",
    "* Maak een klasse Student aan die hiervan over erft die ook nog een dictionary bijhoudt met welke scores de student had voor welk vak. \n",
    "* Maak functies in deze klassen aan om scores toe te voegen, te tellen voor hoeveel vakken de student erdoor is en zijn gemiddelde te berekenen\n",
    "* Maak een aparte functie aan die een lijst studenten als argument meekrijgt en bepaalt hoeveel studenten er door zijn.\n",
    "* Maak een aparte functie aan die een lijst studenten als argument meekrijgt en bepaalt voor elk vak hoeveel studenten er door zijn."
   ]
  },
  {
   "cell_type": "code",
   "execution_count": 2,
   "id": "1233e873",
   "metadata": {},
   "outputs": [
    {
     "name": "stdout",
     "output_type": "stream",
     "text": [
      "Jens 31 Zottegem\n"
     ]
    }
   ],
   "source": [
    "# Oefening 1: Persoon\n",
    "\n",
    "class Persoon:\n",
    "    def __init__(self, naam, leeftijd, adres):\n",
    "        # met de underscore geef je aan dat dit private is (wel nog zichtbaar maar je moet er afblijven)\n",
    "        self._naam = naam\n",
    "        self.naam = naam\n",
    "        self.leeftijd = leeftijd\n",
    "        self.adres = adres\n",
    "\n",
    "p = Persoon(\"Jens\", 31, \"Zottegem\")\n",
    "print(p.naam, p.leeftijd, p.adres)\n"
   ]
  },
  {
   "cell_type": "code",
   "execution_count": 8,
   "id": "ade076df",
   "metadata": {},
   "outputs": [
    {
     "name": "stdout",
     "output_type": "stream",
     "text": [
      "Jens 31 Zottegem {}\n",
      "Jens 31 Zottegem {'Data Science': 18, 'Big Data': 8, 'Machine learning': 16}\n",
      "2\n",
      "14.0\n"
     ]
    }
   ],
   "source": [
    "# Oefening 2: Student\n",
    "\n",
    "class Student(Persoon):\n",
    "\n",
    "    def __init__(self, naam, leeftijd, adres):\n",
    "        super().__init__(naam, leeftijd, adres)\n",
    "        self.scores = {}\n",
    "\n",
    "    def add_score(self, vak, punt):\n",
    "        self.scores[vak] = punt\n",
    "\n",
    "    def aantal_vakken_geslaagd(self):\n",
    "        aantal = 0\n",
    "\n",
    "        for vak in self.scores:\n",
    "            if self.scores[vak] > 9:\n",
    "                aantal += 1\n",
    "\n",
    "        return aantal\n",
    "\n",
    "    def bereken_gemiddelde(self):\n",
    "        \n",
    "        aantal = len(self.scores)\n",
    "        if aantal == 0:\n",
    "            return 0\n",
    "\n",
    "        som = 0\n",
    "\n",
    "        for vak in self.scores:\n",
    "            som += self.scores[vak]\n",
    "\n",
    "        return som / aantal\n",
    "\n",
    "s = Student(\"Jens\", 31, \"Zottegem\")\n",
    "print(s.naam, s.leeftijd, s.adres, s.scores)\n",
    "\n",
    "s.add_score(\"Data Science\", 18)\n",
    "s.add_score(\"Big Data\", 8)\n",
    "s.add_score(\"Machine learning\", 16)\n",
    "print(s.naam, s.leeftijd, s.adres, s.scores)\n",
    "\n",
    "print(s.aantal_vakken_geslaagd())\n",
    "print(s.bereken_gemiddelde())"
   ]
  },
  {
   "cell_type": "code",
   "execution_count": 9,
   "id": "56200557",
   "metadata": {},
   "outputs": [
    {
     "data": {
      "text/plain": [
       "2"
      ]
     },
     "execution_count": 9,
     "metadata": {},
     "output_type": "execute_result"
    }
   ],
   "source": [
    "# Oefening 4: Hoeveel studenten geslaagd voor een vak\n",
    "\n",
    "def aantal_studenten_geslaagd(studenten, vak):\n",
    "    aantal = 0\n",
    "\n",
    "    for student in studenten:\n",
    "        if vak in student.scores:\n",
    "            if student.scores[vak] > 9:\n",
    "                aantal += 1\n",
    "\n",
    "    return aantal\n",
    "\n",
    "s = Student(\"John Doe\", 19, \"Gent\")\n",
    "s.add_score(\"Data Science\", 15)\n",
    "s.add_score(\"Big Data\", 12)\n",
    "s.add_score(\"Machine Learning\", 8)\n",
    "\n",
    "studentenlijst = [s]\n",
    "\n",
    "s = Student(\"Jane Doe\", 20, \"Leuven\")\n",
    "s.add_score(\"Data Science\", 9)\n",
    "s.add_score(\"Big Data\", 5)\n",
    "s.add_score(\"Machine Learning\", 13)\n",
    "\n",
    "studentenlijst.append(s)\n",
    "\n",
    "s = Student(\"John Smith\", 30, \"Antwerpen\")\n",
    "s.add_score(\"Data Science\", 19)\n",
    "s.add_score(\"Big Data\", 15)\n",
    "s.add_score(\"Machine Learning\", 0)\n",
    "\n",
    "studentenlijst.append(s)\n",
    "\n",
    "aantal_studenten_geslaagd(studentenlijst, \"Data Science\")"
   ]
  },
  {
   "cell_type": "code",
   "execution_count": 10,
   "id": "17116780",
   "metadata": {},
   "outputs": [
    {
     "data": {
      "text/plain": [
       "{'Data Science': 2, 'Big Data': 2, 'Machine Learning': 1}"
      ]
     },
     "execution_count": 10,
     "metadata": {},
     "output_type": "execute_result"
    }
   ],
   "source": [
    "# Oefening 5: Hoeveel studenten geslaagd voor elk vak\n",
    "\n",
    "def aantal_geslaagden_per_vak(studentenlijst):\n",
    "    # gaan zoeken welke vakken er zijn\n",
    "    vakken = {}\n",
    "    for student in studentenlijst:\n",
    "        for vak in student.scores:\n",
    "            if vak not in vakken:\n",
    "                vakken[vak] = 0\n",
    "\n",
    "    # per vak het aantal geslaagden gaan zoeken\n",
    "    for vak in vakken:\n",
    "        vakken[vak] = aantal_studenten_geslaagd(studentenlijst, vak)\n",
    "\n",
    "    return vakken\n",
    "\n",
    "aantal_geslaagden_per_vak(studentenlijst)"
   ]
  },
  {
   "cell_type": "markdown",
   "id": "0fcfb3c7",
   "metadata": {
    "slideshow": {
     "slide_type": "slide"
    }
   },
   "source": [
    "## Numpy Intro\n",
    "\n",
    "De numpy libary of package is de kern van veel andere wiskundige rekentools for datamanagement of machine learning in python.\n",
    "Het biedt onder andere een hoge performantie om te werken met rijen van meerdere dimensies en een reeks tools voor bewerkingen te doen met en op deze rijen.\n",
    "* Een 1-dimensionale rij is een een normale rij\n",
    "* Een 2-dimensionale rij is een matrix\n",
    "* Een 3-dimensionale rij is bijvoorbeeld een RGB-figuur (derde dimensie bestaat uit drie elementen)\n",
    "\n",
    "De standaard manier om deze package te gebruiken is door bovenaan je file de package te importeren met het commando:"
   ]
  },
  {
   "cell_type": "code",
   "execution_count": 12,
   "id": "345f8618",
   "metadata": {},
   "outputs": [],
   "source": [
    "import numpy as np"
   ]
  },
  {
   "cell_type": "code",
   "execution_count": 45,
   "id": "92f16d93",
   "metadata": {},
   "outputs": [
    {
     "name": "stdout",
     "output_type": "stream",
     "text": [
      "[[0 1]\n",
      " [2 3]\n",
      " [4 5]\n",
      " [6 7]\n",
      " [8 9]]\n",
      "9\n",
      "9\n",
      "[[0 1]\n",
      " [2 3]\n",
      " [4 5]\n",
      " [6 7]\n",
      " [8 9]]\n",
      "[[0 1]\n",
      " [2 3]\n",
      " [4 5]\n",
      " [6 7]\n",
      " [8 9]] [[-1  1]\n",
      " [ 2  3]\n",
      " [ 4  5]\n",
      " [ 6  7]\n",
      " [ 8  9]]\n"
     ]
    },
    {
     "data": {
      "text/plain": [
       "array([[-89, -37,  21,  66,  79],\n",
       "       [-55, -23,  21,  50,  89],\n",
       "       [-45,  17,  29,  73,  76],\n",
       "       [-91, -63, -62,  20,  55],\n",
       "       [-89, -84, -60, -33,  85],\n",
       "       [-63, -58,  -7,  15,  69],\n",
       "       [-90,   5,  20,  73,  95],\n",
       "       [-77, -52, -38,   5,  52],\n",
       "       [-38, -36, -26,  36,  94],\n",
       "       [-98, -85, -20,  39,  80]])"
      ]
     },
     "execution_count": 45,
     "metadata": {},
     "output_type": "execute_result"
    }
   ],
   "source": [
    "# aanmaken van arrays\n",
    "np.array([0, 1, 2, 3, 4])\n",
    "np.array([[0, 1], [2, 3], [4, 6]])\n",
    "np.ones((5,10))\n",
    "np.zeros((10,5))\n",
    "np.eye(5)   # identiteitsmatrix\n",
    "\n",
    "m = np.arange(10).reshape((5,2))\n",
    "print(m)\n",
    "m[1::2]\n",
    "\n",
    "# berekeningen met matrices\n",
    "m+m\n",
    "m*m     # geen matrix vermenigvuldiging -> element per element vermenigvuldigen (elementwise)\n",
    "m**3\n",
    "\n",
    "m[m > 5]\n",
    "\n",
    "np.sum(m, axis=0)\n",
    "print(np.max(m))\n",
    "print(np.amax(m))\n",
    "np.mean(m)  # gemiddelde\n",
    "np.median(m)\n",
    "\n",
    "m2 = m.copy()   # zonder copy zet je enkel de referenties gelijk (dus dan worden beide aangepast) met een copy kopieer je de volledige numpy array\n",
    "print(m)\n",
    "m2[0,0] = -1\n",
    "print(m, m2)\n",
    "\n",
    "rnd = np.random.randint(-100, 100, (10, 5))\n",
    "np.sort(rnd, axis=1)"
   ]
  },
  {
   "cell_type": "markdown",
   "id": "62958045",
   "metadata": {},
   "source": [
    "Maak nu de volgende oefeningen voor Numpy\n",
    "* Maak 2 vierkante matrices met random waarden tussen 0 en 10. De ene is een 10x5 matrix, de andere is 5x10.\n",
    "* Schrijf een functie die controleert of de dimensies van de matrices voldoen aan de voorwaarden voor matrix vermenigvuldiging\n",
    "* Bereken de vermenigvuldiging van de matrix\n",
    "* Toon de resultaten op alle even rijen\n",
    "* Bereken de som van elke kolom\n",
    "* Bereken het gemiddelde van de matrix\n",
    "* Verander het type van de matrix naar een integer-type\n",
    "* Toon alle rijen waar de 4e kolom een even getal bevat\n",
    "* Wijzig de vorm van de matrix van een 10x10 naar een 5x20\n",
    "* Bereken de getransponeerde matrix\n",
    "* Bereken de vierkantswortel van elk element in deze matrix"
   ]
  },
  {
   "cell_type": "code",
   "execution_count": 54,
   "id": "2dd3d02c",
   "metadata": {},
   "outputs": [
    {
     "data": {
      "text/plain": [
       "array([[365.99182533, 317.91526637, 240.91726472, 322.64577764,\n",
       "        378.12397423],\n",
       "       [314.04421302, 298.10899744, 235.50417241, 261.35289849,\n",
       "        351.52984875],\n",
       "       [298.20782906, 259.53703978, 166.75387732, 213.47522498,\n",
       "        298.60648136],\n",
       "       [240.86412879, 222.65463402, 170.09524701, 225.2200851 ,\n",
       "        250.09760537],\n",
       "       [288.89575107, 246.28301141, 192.64850798, 261.17114286,\n",
       "        344.3518466 ]])"
      ]
     },
     "execution_count": 54,
     "metadata": {},
     "output_type": "execute_result"
    }
   ],
   "source": [
    "m1 = np.random.random((10, 5))*10\n",
    "m2 = np.random.random((5,10))*10\n",
    "\n",
    "np.matmul(m2, m1)"
   ]
  },
  {
   "cell_type": "markdown",
   "id": "2b9e0a6c",
   "metadata": {},
   "source": [
    "## Pandas Intro\n",
    "\n",
    "Pandas is een open-source software library die is geschreven voor Python om aan data manipulatie en analyse te doen. \n",
    "Het biedt met name datastructuren aan voor het bewerken en manipuleren van numerieke tabellen en tijdreeksen. \n",
    "Pandas is uitermate geschikt voor tabulaire data uit bijvoorbeeld relationele databases of spreadsheets.\n",
    "De API die aangeboden wordt door deze library kan je [hier](https://pandas.pydata.org/pandas-docs/stable/reference/index.html) vinden.\n",
    "\n",
    "Deze library biedt mogelijkheden aan om een breed gamma van dataformaten in te lezen en weg te schrijven als dataframe, bijvoorbeeld: csv, xlsx, Json en SQL.\n",
    "De basis van de libary is het concept van Series en Dataframes. \n",
    "Een Series is een soort lijst dat een aantal soorten data kan bevatten (numerieke waarden, datums, strings, ...). \n",
    "Een Dataframe aan de andere hand is een collectie van series met een gemeenschappelijke index.\n",
    "Een series is dan gelijkaardig aan een kolom in een tabel en een dataframe de hele tabel.\n",
    "\n",
    "Net zoals bij Numpy moet deze library geimporteerd worden voor we ermee kunnen werken.\n",
    "Dit kan aan de hand van de volgende regel."
   ]
  },
  {
   "cell_type": "code",
   "execution_count": 55,
   "id": "2c589bd0",
   "metadata": {},
   "outputs": [],
   "source": [
    "import pandas as pd\n",
    "#!pip install pandas"
   ]
  },
  {
   "cell_type": "markdown",
   "id": "502af2e2",
   "metadata": {},
   "source": [
    "Nu ga ik eerst een voorbeeld tonen van het verschil van een Series en een Dataframe."
   ]
  },
  {
   "cell_type": "code",
   "execution_count": 66,
   "id": "7e96e532",
   "metadata": {},
   "outputs": [
    {
     "data": {
      "text/html": [
       "<div>\n",
       "<style scoped>\n",
       "    .dataframe tbody tr th:only-of-type {\n",
       "        vertical-align: middle;\n",
       "    }\n",
       "\n",
       "    .dataframe tbody tr th {\n",
       "        vertical-align: top;\n",
       "    }\n",
       "\n",
       "    .dataframe thead th {\n",
       "        text-align: right;\n",
       "    }\n",
       "</style>\n",
       "<table border=\"1\" class=\"dataframe\">\n",
       "  <thead>\n",
       "    <tr style=\"text-align: right;\">\n",
       "      <th></th>\n",
       "      <th>Auteur</th>\n",
       "      <th>nBooks</th>\n",
       "    </tr>\n",
       "  </thead>\n",
       "  <tbody>\n",
       "    <tr>\n",
       "      <th>0</th>\n",
       "      <td>GRR Martin</td>\n",
       "      <td>6</td>\n",
       "    </tr>\n",
       "    <tr>\n",
       "      <th>1</th>\n",
       "      <td>Andy Weir</td>\n",
       "      <td>3</td>\n",
       "    </tr>\n",
       "    <tr>\n",
       "      <th>2</th>\n",
       "      <td>Tolkien</td>\n",
       "      <td>10</td>\n",
       "    </tr>\n",
       "    <tr>\n",
       "      <th>3</th>\n",
       "      <td>JK Rowling</td>\n",
       "      <td>8</td>\n",
       "    </tr>\n",
       "  </tbody>\n",
       "</table>\n",
       "</div>"
      ],
      "text/plain": [
       "       Auteur  nBooks\n",
       "0  GRR Martin       6\n",
       "1   Andy Weir       3\n",
       "2     Tolkien      10\n",
       "3  JK Rowling       8"
      ]
     },
     "metadata": {},
     "output_type": "display_data"
    },
    {
     "data": {
      "text/html": [
       "<div>\n",
       "<style scoped>\n",
       "    .dataframe tbody tr th:only-of-type {\n",
       "        vertical-align: middle;\n",
       "    }\n",
       "\n",
       "    .dataframe tbody tr th {\n",
       "        vertical-align: top;\n",
       "    }\n",
       "\n",
       "    .dataframe thead th {\n",
       "        text-align: right;\n",
       "    }\n",
       "</style>\n",
       "<table border=\"1\" class=\"dataframe\">\n",
       "  <thead>\n",
       "    <tr style=\"text-align: right;\">\n",
       "      <th></th>\n",
       "      <th>Auteur</th>\n",
       "      <th>nBooks</th>\n",
       "      <th>Geboortejaar</th>\n",
       "    </tr>\n",
       "  </thead>\n",
       "  <tbody>\n",
       "    <tr>\n",
       "      <th>0</th>\n",
       "      <td>GRR Martin</td>\n",
       "      <td>6</td>\n",
       "      <td>1900.0</td>\n",
       "    </tr>\n",
       "    <tr>\n",
       "      <th>1</th>\n",
       "      <td>Andy Weir</td>\n",
       "      <td>3</td>\n",
       "      <td>1970.0</td>\n",
       "    </tr>\n",
       "    <tr>\n",
       "      <th>2</th>\n",
       "      <td>Tolkien</td>\n",
       "      <td>10</td>\n",
       "      <td>1910.0</td>\n",
       "    </tr>\n",
       "    <tr>\n",
       "      <th>3</th>\n",
       "      <td>JK Rowling</td>\n",
       "      <td>8</td>\n",
       "      <td>NaN</td>\n",
       "    </tr>\n",
       "  </tbody>\n",
       "</table>\n",
       "</div>"
      ],
      "text/plain": [
       "       Auteur  nBooks  Geboortejaar\n",
       "0  GRR Martin       6        1900.0\n",
       "1   Andy Weir       3        1970.0\n",
       "2     Tolkien      10        1910.0\n",
       "3  JK Rowling       8           NaN"
      ]
     },
     "execution_count": 66,
     "metadata": {},
     "output_type": "execute_result"
    }
   ],
   "source": [
    "auteurs = pd.Series([\"GRR Martin\", \"Andy Weir\", \"Tolkien\", \"JK Rowling\"])\n",
    "\n",
    "books = pd.Series([6, 3, 10, 8])\n",
    "\n",
    "df = pd.DataFrame({\"Auteur\":auteurs, \"nBooks\": books})\n",
    "display(df) # display pirnt dataframes mooier dan een eenvoudige print\n",
    "\n",
    "# kolom toevoegen\n",
    "df[\"Geboortejaar\"] = pd.Series([1900, 1970, 1910])\n",
    "df"
   ]
  },
  {
   "cell_type": "markdown",
   "id": "c01f9a26",
   "metadata": {},
   "source": [
    "Merk op dat in deze laatste toevoeging een geboortejaar ontbrak. Dit is echter geen probleem want ontbrekende data wordt default op Nan gezet. \n",
    "Deze Nan waarden zien iets waar we later bij data cleaning veel aandacht aan gaan besteden."
   ]
  },
  {
   "cell_type": "code",
   "execution_count": 79,
   "id": "816eb376",
   "metadata": {},
   "outputs": [
    {
     "ename": "KeyError",
     "evalue": "'Auteur'",
     "output_type": "error",
     "traceback": [
      "\u001b[1;31m---------------------------------------------------------------------------\u001b[0m",
      "\u001b[1;31mKeyError\u001b[0m                                  Traceback (most recent call last)",
      "File \u001b[1;32mc:\\Users\\jens.baetens3\\AppData\\Local\\Programs\\Python\\Python310\\lib\\site-packages\\pandas\\core\\indexes\\base.py:3621\u001b[0m, in \u001b[0;36mIndex.get_loc\u001b[1;34m(self, key, method, tolerance)\u001b[0m\n\u001b[0;32m   3620\u001b[0m \u001b[39mtry\u001b[39;00m:\n\u001b[1;32m-> 3621\u001b[0m     \u001b[39mreturn\u001b[39;00m \u001b[39mself\u001b[39;49m\u001b[39m.\u001b[39;49m_engine\u001b[39m.\u001b[39;49mget_loc(casted_key)\n\u001b[0;32m   3622\u001b[0m \u001b[39mexcept\u001b[39;00m \u001b[39mKeyError\u001b[39;00m \u001b[39mas\u001b[39;00m err:\n",
      "File \u001b[1;32mc:\\Users\\jens.baetens3\\AppData\\Local\\Programs\\Python\\Python310\\lib\\site-packages\\pandas\\_libs\\index.pyx:136\u001b[0m, in \u001b[0;36mpandas._libs.index.IndexEngine.get_loc\u001b[1;34m()\u001b[0m\n",
      "File \u001b[1;32mc:\\Users\\jens.baetens3\\AppData\\Local\\Programs\\Python\\Python310\\lib\\site-packages\\pandas\\_libs\\index.pyx:163\u001b[0m, in \u001b[0;36mpandas._libs.index.IndexEngine.get_loc\u001b[1;34m()\u001b[0m\n",
      "File \u001b[1;32mpandas\\_libs\\hashtable_class_helper.pxi:5198\u001b[0m, in \u001b[0;36mpandas._libs.hashtable.PyObjectHashTable.get_item\u001b[1;34m()\u001b[0m\n",
      "File \u001b[1;32mpandas\\_libs\\hashtable_class_helper.pxi:5206\u001b[0m, in \u001b[0;36mpandas._libs.hashtable.PyObjectHashTable.get_item\u001b[1;34m()\u001b[0m\n",
      "\u001b[1;31mKeyError\u001b[0m: 'Auteur'",
      "\nThe above exception was the direct cause of the following exception:\n",
      "\u001b[1;31mKeyError\u001b[0m                                  Traceback (most recent call last)",
      "\u001b[1;32mc:\\Users\\jens.baetens3\\OneDrive - ODISEE\\DATASCIENCE\\22-23\\Leerstof\\Week 1\\PythonIntro.ipynb Cell 25\u001b[0m in \u001b[0;36m<cell line: 3>\u001b[1;34m()\u001b[0m\n\u001b[0;32m      <a href='vscode-notebook-cell:/c%3A/Users/jens.baetens3/OneDrive%20-%20ODISEE/DATASCIENCE/22-23/Leerstof/Week%201/PythonIntro.ipynb#X33sZmlsZQ%3D%3D?line=0'>1</a>\u001b[0m \u001b[39m# indexering van dataframes\u001b[39;00m\n\u001b[1;32m----> <a href='vscode-notebook-cell:/c%3A/Users/jens.baetens3/OneDrive%20-%20ODISEE/DATASCIENCE/22-23/Leerstof/Week%201/PythonIntro.ipynb#X33sZmlsZQ%3D%3D?line=2'>3</a>\u001b[0m df[\u001b[39m\"\u001b[39;49m\u001b[39mAuteur\u001b[39;49m\u001b[39m\"\u001b[39;49m]\n\u001b[0;32m      <a href='vscode-notebook-cell:/c%3A/Users/jens.baetens3/OneDrive%20-%20ODISEE/DATASCIENCE/22-23/Leerstof/Week%201/PythonIntro.ipynb#X33sZmlsZQ%3D%3D?line=3'>4</a>\u001b[0m df\u001b[39m.\u001b[39mAuteur\n\u001b[0;32m      <a href='vscode-notebook-cell:/c%3A/Users/jens.baetens3/OneDrive%20-%20ODISEE/DATASCIENCE/22-23/Leerstof/Week%201/PythonIntro.ipynb#X33sZmlsZQ%3D%3D?line=4'>5</a>\u001b[0m \u001b[39m# loc kan je gebruiken om te indexering op basis van de index/kolomnaam\u001b[39;00m\n",
      "File \u001b[1;32mc:\\Users\\jens.baetens3\\AppData\\Local\\Programs\\Python\\Python310\\lib\\site-packages\\pandas\\core\\frame.py:3505\u001b[0m, in \u001b[0;36mDataFrame.__getitem__\u001b[1;34m(self, key)\u001b[0m\n\u001b[0;32m   3503\u001b[0m \u001b[39mif\u001b[39;00m \u001b[39mself\u001b[39m\u001b[39m.\u001b[39mcolumns\u001b[39m.\u001b[39mnlevels \u001b[39m>\u001b[39m \u001b[39m1\u001b[39m:\n\u001b[0;32m   3504\u001b[0m     \u001b[39mreturn\u001b[39;00m \u001b[39mself\u001b[39m\u001b[39m.\u001b[39m_getitem_multilevel(key)\n\u001b[1;32m-> 3505\u001b[0m indexer \u001b[39m=\u001b[39m \u001b[39mself\u001b[39;49m\u001b[39m.\u001b[39;49mcolumns\u001b[39m.\u001b[39;49mget_loc(key)\n\u001b[0;32m   3506\u001b[0m \u001b[39mif\u001b[39;00m is_integer(indexer):\n\u001b[0;32m   3507\u001b[0m     indexer \u001b[39m=\u001b[39m [indexer]\n",
      "File \u001b[1;32mc:\\Users\\jens.baetens3\\AppData\\Local\\Programs\\Python\\Python310\\lib\\site-packages\\pandas\\core\\indexes\\base.py:3623\u001b[0m, in \u001b[0;36mIndex.get_loc\u001b[1;34m(self, key, method, tolerance)\u001b[0m\n\u001b[0;32m   3621\u001b[0m     \u001b[39mreturn\u001b[39;00m \u001b[39mself\u001b[39m\u001b[39m.\u001b[39m_engine\u001b[39m.\u001b[39mget_loc(casted_key)\n\u001b[0;32m   3622\u001b[0m \u001b[39mexcept\u001b[39;00m \u001b[39mKeyError\u001b[39;00m \u001b[39mas\u001b[39;00m err:\n\u001b[1;32m-> 3623\u001b[0m     \u001b[39mraise\u001b[39;00m \u001b[39mKeyError\u001b[39;00m(key) \u001b[39mfrom\u001b[39;00m \u001b[39merr\u001b[39;00m\n\u001b[0;32m   3624\u001b[0m \u001b[39mexcept\u001b[39;00m \u001b[39mTypeError\u001b[39;00m:\n\u001b[0;32m   3625\u001b[0m     \u001b[39m# If we have a listlike key, _check_indexing_error will raise\u001b[39;00m\n\u001b[0;32m   3626\u001b[0m     \u001b[39m#  InvalidIndexError. Otherwise we fall through and re-raise\u001b[39;00m\n\u001b[0;32m   3627\u001b[0m     \u001b[39m#  the TypeError.\u001b[39;00m\n\u001b[0;32m   3628\u001b[0m     \u001b[39mself\u001b[39m\u001b[39m.\u001b[39m_check_indexing_error(key)\n",
      "\u001b[1;31mKeyError\u001b[0m: 'Auteur'"
     ]
    }
   ],
   "source": [
    "# indexering van dataframes\n",
    "\n",
    "df[\"Auteur\"]\n",
    "df.Auteur\n",
    "# loc kan je gebruiken om te indexering op basis van de index/kolomnaam (waarde van de index)\n",
    "df.loc[2]\n",
    "df.loc[1:3]\n",
    "df.loc[1, \"Auteur\"]\n",
    "# iloc kan je gebruiken om te indexeren op basis van rangnummers (rijnummer)\n",
    "df.set_index(\"Auteur\")\n",
    "df # index is niet aangepast\n",
    "df2 = df.set_index(\"Auteur\")\n",
    "df.set_index(\"Auteur\", inplace=True) # kan je maar 1 keer doen want anders bestaat die kolom niet meer\n",
    "df"
   ]
  },
  {
   "cell_type": "markdown",
   "id": "53da0d41",
   "metadata": {},
   "source": [
    "Voor de verdere bewerkingen maken we een random dataframe aan met 1000 rijen en 5 kolommen."
   ]
  },
  {
   "cell_type": "code",
   "execution_count": 106,
   "id": "01340f2d",
   "metadata": {},
   "outputs": [
    {
     "data": {
      "text/html": [
       "<div>\n",
       "<style scoped>\n",
       "    .dataframe tbody tr th:only-of-type {\n",
       "        vertical-align: middle;\n",
       "    }\n",
       "\n",
       "    .dataframe tbody tr th {\n",
       "        vertical-align: top;\n",
       "    }\n",
       "\n",
       "    .dataframe thead th {\n",
       "        text-align: right;\n",
       "    }\n",
       "</style>\n",
       "<table border=\"1\" class=\"dataframe\">\n",
       "  <thead>\n",
       "    <tr style=\"text-align: right;\">\n",
       "      <th></th>\n",
       "      <th>nBooks</th>\n",
       "      <th>Geboortejaar</th>\n",
       "    </tr>\n",
       "    <tr>\n",
       "      <th>Auteur</th>\n",
       "      <th></th>\n",
       "      <th></th>\n",
       "    </tr>\n",
       "  </thead>\n",
       "  <tbody>\n",
       "    <tr>\n",
       "      <th>GRR Martin</th>\n",
       "      <td>6</td>\n",
       "      <td>1900.0</td>\n",
       "    </tr>\n",
       "    <tr>\n",
       "      <th>Andy Weir</th>\n",
       "      <td>3</td>\n",
       "      <td>1970.0</td>\n",
       "    </tr>\n",
       "    <tr>\n",
       "      <th>Tolkien</th>\n",
       "      <td>10</td>\n",
       "      <td>1910.0</td>\n",
       "    </tr>\n",
       "    <tr>\n",
       "      <th>JK Rowling</th>\n",
       "      <td>8</td>\n",
       "      <td>NaN</td>\n",
       "    </tr>\n",
       "  </tbody>\n",
       "</table>\n",
       "</div>"
      ],
      "text/plain": [
       "            nBooks  Geboortejaar\n",
       "Auteur                          \n",
       "GRR Martin       6        1900.0\n",
       "Andy Weir        3        1970.0\n",
       "Tolkien         10        1910.0\n",
       "JK Rowling       8           NaN"
      ]
     },
     "execution_count": 106,
     "metadata": {},
     "output_type": "execute_result"
    }
   ],
   "source": [
    "# random df\n",
    "df = pd.DataFrame(np.random.random((1000, 5)))\n",
    "df.columns = [\"A\", \"B\", \"C\", \"D\", \"E\"]\n",
    "df.describe()\n",
    "\n",
    "# dimensions\n",
    "len(df) # aantal rijen\n",
    "len(df.columns) # aantal kolommen\n",
    "df.shape\n",
    "\n",
    "# indexing\n",
    "df[(df.A > 0.8).__and__(df.B < 0.2)]\n",
    "\n",
    "# drop columns, duplicates\n",
    "df2.isna().sum(axis=1)\n",
    "df2.dropna()\n",
    "df2.dropna(axis=1, how='all')\n",
    "\n",
    "#Reshaping data\n",
    "\n",
    "#Handling null values"
   ]
  },
  {
   "cell_type": "markdown",
   "id": "267abacf",
   "metadata": {},
   "source": [
    "Nu kan je het zelf oefenen met de volgende oefeningen:\n",
    "* Maak een Series aan met 500 willekeurige continue getallen tussen 0 en 20\n",
    "* Maak een Series aan met 500 willekeurige integer getallen tussen 40 en 200 (let erop dat het dtype van deze kolom correct is)\n",
    "* Maak een Dataframe aan op basis van deze twee Series. De eerste is de \"Lengte\" en de tweede de \"Breedte\".\n",
    "* Bereken nu de oppervlakte van elke rij en sla dit op in een nieuwe kolom\n",
    "* Bereken de gemiddelde en mediaan van deze nieuwe kolom\n",
    "* Voor de oppervlakte willen we niet met komma-getallen werken. Verander het type van deze kolom dus naar int\n",
    "* Toon de breedte van alle rijen waarvoor de oppervlakte groter is dan het gemiddelde.\n",
    "* Toon enkel de rijen waarvoor de breedte groter is dan de lengte"
   ]
  },
  {
   "cell_type": "code",
   "execution_count": null,
   "id": "39bdc4bc",
   "metadata": {},
   "outputs": [],
   "source": []
  },
  {
   "cell_type": "code",
   "execution_count": 116,
   "id": "98380780",
   "metadata": {},
   "outputs": [
    {
     "data": {
      "text/html": [
       "<div>\n",
       "<style scoped>\n",
       "    .dataframe tbody tr th:only-of-type {\n",
       "        vertical-align: middle;\n",
       "    }\n",
       "\n",
       "    .dataframe tbody tr th {\n",
       "        vertical-align: top;\n",
       "    }\n",
       "\n",
       "    .dataframe thead th {\n",
       "        text-align: right;\n",
       "    }\n",
       "</style>\n",
       "<table border=\"1\" class=\"dataframe\">\n",
       "  <thead>\n",
       "    <tr style=\"text-align: right;\">\n",
       "      <th></th>\n",
       "      <th>Naam</th>\n",
       "      <th>Vak</th>\n",
       "      <th>Score</th>\n",
       "      <th>Percentage</th>\n",
       "    </tr>\n",
       "  </thead>\n",
       "  <tbody>\n",
       "    <tr>\n",
       "      <th>0</th>\n",
       "      <td>Quinten</td>\n",
       "      <td>Wiskunde</td>\n",
       "      <td>14</td>\n",
       "      <td>70.0</td>\n",
       "    </tr>\n",
       "    <tr>\n",
       "      <th>1</th>\n",
       "      <td>Quinten</td>\n",
       "      <td>Nederlands</td>\n",
       "      <td>8</td>\n",
       "      <td>40.0</td>\n",
       "    </tr>\n",
       "    <tr>\n",
       "      <th>2</th>\n",
       "      <td>Quinten</td>\n",
       "      <td>Duits</td>\n",
       "      <td>18</td>\n",
       "      <td>90.0</td>\n",
       "    </tr>\n",
       "    <tr>\n",
       "      <th>3</th>\n",
       "      <td>Rob</td>\n",
       "      <td>Wiskunde</td>\n",
       "      <td>6</td>\n",
       "      <td>30.0</td>\n",
       "    </tr>\n",
       "    <tr>\n",
       "      <th>4</th>\n",
       "      <td>Rob</td>\n",
       "      <td>Nederlands</td>\n",
       "      <td>12</td>\n",
       "      <td>60.0</td>\n",
       "    </tr>\n",
       "    <tr>\n",
       "      <th>5</th>\n",
       "      <td>Rob</td>\n",
       "      <td>Duits</td>\n",
       "      <td>14</td>\n",
       "      <td>70.0</td>\n",
       "    </tr>\n",
       "    <tr>\n",
       "      <th>6</th>\n",
       "      <td>Lorenzo</td>\n",
       "      <td>Wiskunde</td>\n",
       "      <td>16</td>\n",
       "      <td>80.0</td>\n",
       "    </tr>\n",
       "    <tr>\n",
       "      <th>7</th>\n",
       "      <td>Lorenzo</td>\n",
       "      <td>Nederlands</td>\n",
       "      <td>4</td>\n",
       "      <td>20.0</td>\n",
       "    </tr>\n",
       "    <tr>\n",
       "      <th>8</th>\n",
       "      <td>Lorenzo</td>\n",
       "      <td>Duits</td>\n",
       "      <td>12</td>\n",
       "      <td>60.0</td>\n",
       "    </tr>\n",
       "  </tbody>\n",
       "</table>\n",
       "</div>"
      ],
      "text/plain": [
       "      Naam         Vak  Score  Percentage\n",
       "0  Quinten    Wiskunde     14        70.0\n",
       "1  Quinten  Nederlands      8        40.0\n",
       "2  Quinten       Duits     18        90.0\n",
       "3      Rob    Wiskunde      6        30.0\n",
       "4      Rob  Nederlands     12        60.0\n",
       "5      Rob       Duits     14        70.0\n",
       "6  Lorenzo    Wiskunde     16        80.0\n",
       "7  Lorenzo  Nederlands      4        20.0\n",
       "8  Lorenzo       Duits     12        60.0"
      ]
     },
     "metadata": {},
     "output_type": "display_data"
    },
    {
     "data": {
      "text/plain": [
       "Naam\n",
       "Lorenzo    6\n",
       "Quinten    2\n",
       "Rob        5\n",
       "Name: Percentage, dtype: int64"
      ]
     },
     "metadata": {},
     "output_type": "display_data"
    },
    {
     "data": {
      "text/html": [
       "<div>\n",
       "<style scoped>\n",
       "    .dataframe tbody tr th:only-of-type {\n",
       "        vertical-align: middle;\n",
       "    }\n",
       "\n",
       "    .dataframe tbody tr th {\n",
       "        vertical-align: top;\n",
       "    }\n",
       "\n",
       "    .dataframe thead th {\n",
       "        text-align: right;\n",
       "    }\n",
       "</style>\n",
       "<table border=\"1\" class=\"dataframe\">\n",
       "  <thead>\n",
       "    <tr style=\"text-align: right;\">\n",
       "      <th></th>\n",
       "      <th>Naam</th>\n",
       "      <th>Vak</th>\n",
       "      <th>Score</th>\n",
       "      <th>Percentage</th>\n",
       "    </tr>\n",
       "  </thead>\n",
       "  <tbody>\n",
       "    <tr>\n",
       "      <th>6</th>\n",
       "      <td>Lorenzo</td>\n",
       "      <td>Wiskunde</td>\n",
       "      <td>16</td>\n",
       "      <td>80.0</td>\n",
       "    </tr>\n",
       "    <tr>\n",
       "      <th>2</th>\n",
       "      <td>Quinten</td>\n",
       "      <td>Duits</td>\n",
       "      <td>18</td>\n",
       "      <td>90.0</td>\n",
       "    </tr>\n",
       "    <tr>\n",
       "      <th>5</th>\n",
       "      <td>Rob</td>\n",
       "      <td>Duits</td>\n",
       "      <td>14</td>\n",
       "      <td>70.0</td>\n",
       "    </tr>\n",
       "  </tbody>\n",
       "</table>\n",
       "</div>"
      ],
      "text/plain": [
       "      Naam       Vak  Score  Percentage\n",
       "6  Lorenzo  Wiskunde     16        80.0\n",
       "2  Quinten     Duits     18        90.0\n",
       "5      Rob     Duits     14        70.0"
      ]
     },
     "execution_count": 116,
     "metadata": {},
     "output_type": "execute_result"
    }
   ],
   "source": [
    "import pandas as pd\n",
    "a = pd.Series(['Quinten', 'Quinten', 'Quinten', 'Rob', 'Rob', 'Rob', 'Lorenzo', 'Lorenzo', 'Lorenzo'])\n",
    "b = pd.Series([\"Wiskunde\", \"Nederlands\", \"Duits\", \"Wiskunde\", \"Nederlands\", \"Duits\", \"Wiskunde\", \"Nederlands\", \"Duits\"])\n",
    "c = pd.Series([14,8,18,6,12,14,16,4,12])\n",
    "\n",
    "x = pd.DataFrame({\n",
    "    \"Naam\":a,   \n",
    "    \"Vak\":b,\n",
    "    \"Score\":c,\n",
    "    \"Percentage\":(c/20)*100\n",
    "})\n",
    "\n",
    "display(x)\n",
    "\n",
    "g = x.groupby(['Naam'])['Percentage'].idxmax()\n",
    "display(g)\n",
    "x.loc[g]\n"
   ]
  },
  {
   "cell_type": "code",
   "execution_count": null,
   "id": "9a24e2b7",
   "metadata": {},
   "outputs": [],
   "source": []
  }
 ],
 "metadata": {
  "celltoolbar": "Slideshow",
  "kernelspec": {
   "display_name": "Python 3 (ipykernel)",
   "language": "python",
   "name": "python3"
  },
  "language_info": {
   "codemirror_mode": {
    "name": "ipython",
    "version": 3
   },
   "file_extension": ".py",
   "mimetype": "text/x-python",
   "name": "python",
   "nbconvert_exporter": "python",
   "pygments_lexer": "ipython3",
   "version": "3.10.5"
  },
  "vscode": {
   "interpreter": {
    "hash": "d5e8e3a19af5ceb2434683dff87da6345c3b29f7eb0a8a138558c07d014a01cc"
   }
  }
 },
 "nbformat": 4,
 "nbformat_minor": 5
}
