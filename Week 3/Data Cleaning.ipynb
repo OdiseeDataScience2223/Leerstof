{
 "cells": [
  {
   "cell_type": "markdown",
   "id": "7f1d2f18",
   "metadata": {},
   "source": [
    "# Data Cleaning\n",
    "\n",
    "In deze notebook gaan we werken met een dataset die de gebeurtenissen tijdens een reeks wedstrijden over een periode van 4 jaar.\n",
    "De link naar deze dataset is: https://www.kaggle.com/secareanualin/football-events.\n",
    "Met deze kan je reeds heel wat informatie vinden over wat er in deze dataset zit. \n",
    "In de dataset zitten er drie files:\n",
    "* events.csv Bevat data over de gebeurtenissen van elke wedstrijd.\n",
    "* ginf.csv - Bevat metadata en win-kansen van elke wedstrijd.\n",
    "* dictionary.txt Bevat een tekstuele weergave van de verschillende categorieen\n",
    "\n",
    "Hieronder staan alle imports die gebruikt worden in de loop van de notebook."
   ]
  },
  {
   "cell_type": "code",
   "execution_count": null,
   "id": "fdf10db6",
   "metadata": {},
   "outputs": [],
   "source": []
  },
  {
   "cell_type": "markdown",
   "id": "85927048",
   "metadata": {},
   "source": [
    "## Inladen dataset\n",
    "\n",
    "De eerste stap is om de dataset te downloaden vanuit kaggle met de opendatasets library.\n",
    "Aangezien de dataset meerdere bestanden bevat kan het zijn dat het wordt gedownload als zip (controleer dit). \n",
    "Unzip daarom eerst het bestand indien nodig.\n",
    "Laad daarna de twee csv bestanden in in een dataframe.\n",
    "De code voor deze stappen is:"
   ]
  },
  {
   "cell_type": "code",
   "execution_count": null,
   "id": "438e5a9b",
   "metadata": {},
   "outputs": [],
   "source": []
  },
  {
   "cell_type": "code",
   "execution_count": null,
   "id": "57fdab5b",
   "metadata": {},
   "outputs": [],
   "source": []
  },
  {
   "cell_type": "markdown",
   "id": "ea967649",
   "metadata": {},
   "source": [
    "## Exploratory Data Analysis\n",
    "\n",
    "De read_csv functie heeft een dataframe aangemaakt en alle data van de csv ingeladen in dit object.\n",
    "Pandas voorziet daarnaast een aantal eenvoudige methodes om heel wat informatie uit de dataset op te halen.\n",
    "Een overzicht van alle functies die mogelijk zijn met dataframes vind je hier: https://pandas.pydata.org/docs/reference/api/pandas.DataFrame.html.\n",
    "We kunnen bijvoorbeeld eenvoudig het aantal rijen gaan opvragen maar ook een aantal rijen gaan bekijken. \n",
    "Dit kan bijvoorbeeld met de volgende code:"
   ]
  },
  {
   "cell_type": "code",
   "execution_count": null,
   "id": "eb3895ef",
   "metadata": {},
   "outputs": [],
   "source": []
  },
  {
   "cell_type": "markdown",
   "id": "1ba19fe6",
   "metadata": {},
   "source": [
    "Probeer nu zelf de volgende zaken op te zoeken:\n",
    "* Haal willekeurig 2 rijen uit de dataset\n",
    "* Alle spelers die betrokken zijn geweest bij een event (geen duplicaten)\n",
    "* Hoeveel goalen zijn er gemaakt in de geregistreerde events? Dit kan aan de hand van de is_goal kolom.\n",
    "* Bestudeer de inhoud van het ginf dataset, besteed vooral aandacht aan de ontbrekende data\n",
    "* Voeg aan het ginf dataframe twee kolommen toe, 1 voor het aantal events van de thuisploeg en 1 voor het aantal events van de andere ploeg."
   ]
  },
  {
   "cell_type": "code",
   "execution_count": null,
   "id": "5a49a763",
   "metadata": {},
   "outputs": [],
   "source": []
  },
  {
   "cell_type": "code",
   "execution_count": null,
   "id": "66b98ffc",
   "metadata": {},
   "outputs": [],
   "source": []
  },
  {
   "cell_type": "code",
   "execution_count": null,
   "id": "03d6f879",
   "metadata": {},
   "outputs": [],
   "source": []
  },
  {
   "cell_type": "code",
   "execution_count": null,
   "id": "41597ae4",
   "metadata": {},
   "outputs": [],
   "source": []
  },
  {
   "cell_type": "code",
   "execution_count": null,
   "id": "3c193ca8",
   "metadata": {},
   "outputs": [],
   "source": []
  },
  {
   "cell_type": "markdown",
   "id": "f35307e6",
   "metadata": {},
   "source": [
    "## Data Cleaning\n",
    "\n",
    "### Ontbrekende data\n",
    "\n",
    "In eerste instantie zijn er de volgende mogelijkheden om om te gaan met ontbrekende data (Null or Nan values)\n",
    "* Negeren\n",
    "* Verwijder rijen met null waarden\n",
    "* Verwijder kolommen met null waarden\n",
    "* Kies een waarde om de NaN waarden in te vullen\n",
    "* Gebruik duplicaten om de waarde in te vullen\n",
    "\n",
    "Je kan gebruik maken van de volgende functies:\n",
    "* isna or notna om aan te geven welke elementen ontbrekende of ingevulde data bevatten \n",
    "* dropna drop columns or rows containing missing values  (https://pandas.pydata.org/pandas-docs/stable/reference/api/pandas.DataFrame.dropna.html)\n",
    "* fillna fill in missing values https://pandas.pydata.org/pandas-docs/stable/reference/api/pandas.DataFrame.fillna.html#pandas.DataFrame.fillna\n",
    "\n",
    "Deze functies hebben de volgende resultaten"
   ]
  },
  {
   "cell_type": "code",
   "execution_count": null,
   "id": "2b231aeb",
   "metadata": {},
   "outputs": [],
   "source": []
  },
  {
   "cell_type": "markdown",
   "id": "b1ed2a35",
   "metadata": {},
   "source": [
    "We zien dat de manier waarop we dropna uitvoeren een grote impact kan hebben op het resultaat.\n",
    "In de eerste situatie bekomen we een lege dataset. Dit komt omdat er op elke rij minstens 1 kolom is die een Nan value bevat.\n",
    "\n",
    "In het tweede voorbeeld, worden alle kolommen verwijderd die minstens 1 Nan value bevat. Op deze manier hebben we nog evenveel elementen maar het aantal kolommen is sterk gereduceerd. Door dit zonder controle te gebruiken kan veel nuttige informatie verwijderd worden. Merk op dat de 4 kolommen met de speler informatie verwijderd zijn. En ook de kolommen die meer informatie bevatten over het type event.\n",
    "\n",
    "Het merendeel van de verwijderde kolommen bevatten dus nuttige informatie en willen we daarom niet verwijderen.\n",
    "Om deze reden hebben we een meer manuele aanpak nodig.\n",
    "De kolommen met informatie over het event (bvb shot_place) zijn nodig en mogen dus blijven staan. \n",
    "Nan geeft dan enkel weer dat de waarde niet van toepassing is.\n",
    "De 4 kolommen met speler informatie kan echter gereduceerd worden tot twee kolommen (1 voor elk team) waarbij player2 niet altijd ingevuld moet zijn.\n",
    "Dit kan bewezen worden als volgt: "
   ]
  },
  {
   "cell_type": "code",
   "execution_count": null,
   "id": "fa377093",
   "metadata": {},
   "outputs": [],
   "source": []
  },
  {
   "cell_type": "markdown",
   "id": "1721d717",
   "metadata": {},
   "source": [
    "Met bovenstaande resultaten zien we dat in bijna alle gevallen player ofwel player_in ingevuld is maar nooit allebei.\n",
    "Dit houdt in dat we deze twee kolommen eenvoudig kunnen samenvoegen. \n",
    "Hetzelfde geldt voor de kolommen player2 en player_out.\n",
    "Nog een belangrijke opmerking is dat er een aantal rijen zijn waar er geen informatie over spelers aanwezig is.\n",
    "Deze rijen kunnen verwijderd worden.\n",
    "\n",
    "Overbodige kolommen:\n",
    "* text\n",
    "* id_event (samenstelling van id_odsp en sort_order)\n",
    "\n",
    "Dit doen we hier:"
   ]
  },
  {
   "cell_type": "code",
   "execution_count": null,
   "id": "a420ca88",
   "metadata": {},
   "outputs": [],
   "source": []
  },
  {
   "cell_type": "code",
   "execution_count": null,
   "id": "4c41c73a",
   "metadata": {},
   "outputs": [],
   "source": []
  },
  {
   "cell_type": "markdown",
   "id": "bfdfbeab",
   "metadata": {},
   "source": [
    "Oefening: Zijn er na het mergen van deze twee kolommen nog gevallen waar player null is maar player2 niet? In het geval dat er nog zo rijen zijn, verplaats de waarde van de player2 kolom naar de player kolom (enkel voor deze rijen). Nadat dit gedaan is hebben we zoveel mogelijk gedaan en kunnen we de overige rijen waarvoor de player feature null is laten vallen. "
   ]
  },
  {
   "cell_type": "code",
   "execution_count": null,
   "id": "0b0f698e",
   "metadata": {},
   "outputs": [],
   "source": []
  },
  {
   "cell_type": "markdown",
   "id": "2ce7a7ea",
   "metadata": {},
   "source": [
    "### One hot encoding\n",
    "\n",
    "In deze dataset wordt er vaak een enum gebruikt om een categorie aan te duiden. \n",
    "Dit is een compacte manier om een enum in een dataset op te slaan maar dit geeft vaak problemen bij het opbouwen van modellen.\n",
    "Dit gaan we in meer detail bekijken bij classificatie/clustering.\n",
    "\n",
    "Om dit op te lossen kunnen gebruik maken van one-hot encoding.\n",
    "In pandas kan dat door gebruik te maken van de functie pd.get_dummies()"
   ]
  },
  {
   "cell_type": "code",
   "execution_count": null,
   "id": "3a30ed0b",
   "metadata": {},
   "outputs": [],
   "source": []
  },
  {
   "cell_type": "markdown",
   "id": "b3e65afb",
   "metadata": {},
   "source": [
    "### Data Format Correcting\n",
    "\n",
    "Buiten het verwijderen of toevoegen van kolommen kan het ook belangrijk zijn om de waarden van individuele elementen te corrigeren/aan te passen. \n",
    "Dit kan een heel aantal zaken omvatten zoals het corrigeren van typo's, omzetten van datatypes, etc.\n",
    "Laten we eerst eens de One-Hot Encoded values omzetten van 0/1 naar true/false."
   ]
  },
  {
   "cell_type": "code",
   "execution_count": null,
   "id": "b4496b21",
   "metadata": {},
   "outputs": [],
   "source": []
  },
  {
   "cell_type": "markdown",
   "id": "66c857d2",
   "metadata": {},
   "source": [
    "Daarnaast moeten er ook vaak woorden in tekstuele velden gecorrigeerd of vertaald worden. \n",
    "Om hiervan een voorbeeld te geven ga ik in de player en player2 kolommen de naam van \"Romelu Lukaku\" hernoemen naar \"Big Rom\".\n",
    "De volgende code voert dit uit door gebruik te maken van de [replace](https://pandas.pydata.org/pandas-docs/stable/reference/api/pandas.DataFrame.replace.html) functie:"
   ]
  },
  {
   "cell_type": "code",
   "execution_count": null,
   "id": "57366c05",
   "metadata": {},
   "outputs": [],
   "source": []
  },
  {
   "cell_type": "markdown",
   "id": "91ad1d0f",
   "metadata": {},
   "source": [
    "Een andere grote bron van data formaten dat aangepast moet worden komt voort uit kolommen die datums bevatten. Deze worden standaard ingelezen als een tekst veldje dus moet je deze zelf gaan omzetten. Dit kan je zien in de ginf dataset waar de \"date\" kolom van het type object is. Dit is in numpy de indicatie dat het een tekstveld is.\n",
    "\n",
    "In de dataframe zien we dat de datums erin staan als \"%Y-%m-%d\" (jaar als 4 cijfers, rest als twee). \n",
    "Voor de notatie van andere dataformaten vind je [hier](http://strftime.org/) meer informatie.\n",
    "Met behulp van de [to_datetime](https://pandas.pydata.org/pandas-docs/stable/reference/api/pandas.to_datetime.html) functie kan je deze kolom omzetten naar datums.\n",
    "Zoek na deze omzetting eens het datatype op van deze kolom.\n",
    "Je ziet dat het nu geen object meer is maar een correcte datum.\n",
    "\n",
    "Merk op dat deze manier van aanpakken enkel werkt wanneer de hele tabel hetzelfde dataformaat heeft.\n",
    "Indien er meerdere dataformaten gebruikt zijn (bijvoorbeeld door manuele input), dan kan je het nog steeds doen maar dan moet panda een inschatting maken van het gewenste formaat. Dit kan door het argument \"infer_datetime_format=True\".\n",
    "Hoewel dit mogelijk is zijn er twee redenen waarom we dit niet altijd gebruiken, namelijk\n",
    "* Het duurt veel langer om de tabel om te zetten.\n",
    "* Het gaat niet altijd het correcte resultaat geven bij speciale formaten\n",
    "\n",
    "Eenmaal de kolom van het type datetime is kan je heel gemakkelijk deze kolommen vergelijken en er zaken gaan uithalen zoals de maand waarin de wedstrijd plaatsvond. "
   ]
  },
  {
   "cell_type": "code",
   "execution_count": null,
   "id": "95094bb8",
   "metadata": {},
   "outputs": [],
   "source": []
  },
  {
   "cell_type": "markdown",
   "id": "676343c2",
   "metadata": {},
   "source": [
    "### Data shuffling\n",
    "\n",
    "Een mogelijke manier om de privacy van je klanten te beschermen die we aangehaald hebben is data shuffling.\n",
    "Bij deze methode is het de bedoeling dat je de namen in een dataset op een willekeurige manier door elkaar haalt.\n",
    "Dit kan gedaan worden door gebruik te maken van de permutation methode van numpy  (https://pandas.pydata.org/pandas-docs/stable/reference/api/pandas.DataFrame.sample.html) op de volgende manier:"
   ]
  },
  {
   "cell_type": "code",
   "execution_count": null,
   "id": "e4135dd2",
   "metadata": {
    "scrolled": true
   },
   "outputs": [],
   "source": []
  },
  {
   "cell_type": "markdown",
   "id": "5c8941d8",
   "metadata": {},
   "source": [
    "## Oefeningen\n",
    "\n",
    "Om meer vertrouwd te worden met het werken met pandas kan je de volgende zaken zelf proberen.\n",
    "\n",
    "Bewerkingen op de events.csv dataset:\n",
    "* Controleer de kolommen \"id_event\", \"id_odsp\" en \"sort_order\". Is er 1 van deze drie overbodig? Verwijder de kolom indien dit zo is.\n",
    "* Hernoem \"Hamburg SV\" naar \"Hamburg FC\". Let op, doe dit voor alle kolommen waar het kan staan.\n",
    "\n",
    "Bewerkingen op de ginf.csv dataset:\n",
    "* Maak One Hot Encoding voor de kolom \"Country\"\n",
    "* Voeg een kolom toe die drie waarden kan hebben: Home team wins, Home team loses, draw\n",
    "* Maak nu ook een One Hot Encoding voor deze nieuwe kolom\n",
    "* Drop de kolom met de urls voor de ploegen\n",
    "* Bewaar je aangepaste dataset in \"wedstrijden.csv\" (Gebruik de functie to_save: https://pandas.pydata.org/docs/reference/api/pandas.DataFrame.to_csv.html)"
   ]
  },
  {
   "cell_type": "code",
   "execution_count": null,
   "id": "54292e7a",
   "metadata": {},
   "outputs": [],
   "source": []
  },
  {
   "cell_type": "markdown",
   "id": "ded89b0a",
   "metadata": {},
   "source": [
    "## Oefening 2\n",
    "\n",
    "Gebruik de dataset die je kan vinden op [deze link](https://gist.githubusercontent.com/deanjamesss/f8f5781fb682fb728e9674dda9813982/raw/801df9e7b9af894af1f69ba1a40af909160891aa/employee_data.csv).\n",
    "Deze dataset bevat informatie over de personeelslijst van een bedrijf.\n",
    "Voer de volgende stappen/oefeningen/bewerkingen uit:\n",
    "* Bekijk de datatypes van de verschillende kolommen. Is alles zoals je verwacht?\n",
    "* Bereken het aantal nulwaarden per kolom.\n",
    "* Verwijder de kolom met de gegevens over het belastingsnummer. Verliezen we hiermee data?\n",
    "* Verwijder alle rijen die meer dan 2 ontbrekende gegevens bevatten. Hoeveel rijen blijven er over?\n",
    "* Geef een dataframe met de lijsten verwijderd in de vorige stap.\n",
    "* Vul in de kolommen voor het geslacht en employment_status ontbrekende waarden in met een U van unknown.\n",
    "* Om de geslacht kolom leesbaarder te maken, vervang M door male, F door female en U door unknown.\n",
    "* Voeg een one-hot encoding voor de kolom van de employment_status toe. Verwijder ook de originele kolom.\n",
    "* Bewaar het bewerkte csv in een bestand"
   ]
  },
  {
   "cell_type": "code",
   "execution_count": null,
   "id": "3840a6b9",
   "metadata": {},
   "outputs": [],
   "source": []
  },
  {
   "cell_type": "code",
   "execution_count": null,
   "id": "5350efe4",
   "metadata": {},
   "outputs": [],
   "source": []
  },
  {
   "cell_type": "code",
   "execution_count": null,
   "id": "4f27bd86",
   "metadata": {},
   "outputs": [],
   "source": []
  }
 ],
 "metadata": {
  "kernelspec": {
   "display_name": "Python 3.10.5 64-bit",
   "language": "python",
   "name": "python3"
  },
  "language_info": {
   "codemirror_mode": {
    "name": "ipython",
    "version": 3
   },
   "file_extension": ".py",
   "mimetype": "text/x-python",
   "name": "python",
   "nbconvert_exporter": "python",
   "pygments_lexer": "ipython3",
   "version": "3.10.5"
  },
  "vscode": {
   "interpreter": {
    "hash": "d5e8e3a19af5ceb2434683dff87da6345c3b29f7eb0a8a138558c07d014a01cc"
   }
  }
 },
 "nbformat": 4,
 "nbformat_minor": 5
}
