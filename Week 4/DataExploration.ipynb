{
 "cells": [
  {
   "cell_type": "markdown",
   "id": "7f1d2f18",
   "metadata": {},
   "source": [
    "# Data Exploration\n",
    "\n",
    "In deze notebook gaan we werken met een dataset de eigenschappen van een hele reeks huizen uit Amerika bevat samen met hun verkoopprijs. \n",
    "Deze dataset kan gebruikt worden om de verkoopprijs van een huis in te schatten maar in deze notebook gaan we vooral focussen op het verkennen en bestuderen van de dataset.\n",
    "De link naar deze dataset is: https://www.kaggle.com/c/house-prices-advanced-regression-techniques.\n",
    "Via deze link kan je heel wat informatie vinden over welke gegevens er in deze dataset zitten.\n",
    "Voor we beginnen met deze dataset te verkennen moeten we een aantal libraries inladen. \n",
    "Doe dit hieronder:"
   ]
  },
  {
   "cell_type": "code",
   "execution_count": null,
   "id": "5a77660d",
   "metadata": {},
   "outputs": [],
   "source": [
    "# import everything\n",
    "import opendatasets as od\n",
    "from zipfile import ZipFile\n",
    "import pandas as pd\n",
    "import numpy as np\n",
    "\n",
    "# plotting\n",
    "import matplotlib.pyplot as plt\n",
    "import seaborn as sns"
   ]
  },
  {
   "cell_type": "markdown",
   "id": "368a33f1",
   "metadata": {},
   "source": [
    "## Downloaden en inladen dataset\n",
    "\n",
    "De eerste stap is om de dataset in te downloaden.\n",
    "Aangezien we hier werken met een dataset van kaggle gaat het iets complexer zijn dan de voorgaande.\n",
    "Volg [deze stappen](https://www.analyticsvidhya.com/blog/2021/04/how-to-download-kaggle-datasets-using-jupyter-notebook/) om de dataset correct te downloaden.\n",
    "* Maak een account aan op Kaggle\n",
    "* Maak een API - token aan (Rechtsbovenaan op het icoontje -> Account -> API -> Create New API Token\n",
    "* Download dit token in de vorm van de json. Hierin staat je username en key die je meegeeft bij het downloaden\n",
    "\n",
    "Merk op dat dit een zip gedownload heeft omdat de datset bestaat uit 4 bestanden. \n",
    "Unzip nu de dataset.\n",
    "Laad daarna de train.csv file in als panda.\n",
    "De informatie over de categorieke data zit in de txt-file.\n",
    "De andere files moeten gebruikt worden voor de sale-price te voorspellen om te bepalen hoe goe je model werkt en zo op het leaderboard terecht te komen.\n",
    "Hoeveel rijen en kolommen heeft de gecombineerde dataset? Is dit correct gedaan?"
   ]
  },
  {
   "cell_type": "code",
   "execution_count": null,
   "id": "438e5a9b",
   "metadata": {},
   "outputs": [],
   "source": [
    "#download\n",
    "#od.download(\"https://www.kaggle.com/c/house-prices-advanced-regression-techniques\")"
   ]
  },
  {
   "cell_type": "code",
   "execution_count": null,
   "id": "0004f3f8",
   "metadata": {},
   "outputs": [],
   "source": [
    "# unzip files"
   ]
  },
  {
   "cell_type": "code",
   "execution_count": 1,
   "id": "f8aac454",
   "metadata": {
    "scrolled": false
   },
   "outputs": [],
   "source": [
    "# load data (merk op dat SalePrice de target is waarnaar opzoek gegaan moet worden in deze dataset)\n",
    "# deze kolom is niet aanwezig in de testdata"
   ]
  },
  {
   "cell_type": "markdown",
   "id": "ea967649",
   "metadata": {},
   "source": [
    "## Bestuderen dataset\n",
    "\n",
    "### Globale informatie over de kolommen\n",
    "\n",
    "En eerste stap om informatie over de beschikbare data te bkomen is door middel van de functie [info()](https://pandas.pydata.org/pandas-docs/stable/reference/api/pandas.DataFrame.info.html).\n",
    "Deze functie geeft een overzicht van hoeveel rijen en kolommen er in het dataframe zijn, wat voor type data de verschillende kolommen bevatten en hoeveel null-waarden er in elke kolom zitten.\n",
    "Daarnaast kunnen we met [describe()](https://pandas.pydata.org/pandas-docs/stable/reference/api/pandas.DataFrame.describe.html) meer informatie opvragen over de verdeling van de numerieke waarden per kolom."
   ]
  },
  {
   "cell_type": "code",
   "execution_count": null,
   "id": "a81350b6",
   "metadata": {},
   "outputs": [],
   "source": []
  },
  {
   "cell_type": "markdown",
   "id": "25fd9e42",
   "metadata": {},
   "source": [
    "De dataset kan in twee gesplits worden op basis van hun soort data dat ze bevatten, bijvoorbeeld Categorieke of Numerieke data.\n",
    "Dit kan je doen door een gekozen dtype te selecteren of eruit te halen door middel van de functie [select_dtypes()](https://pandas.pydata.org/pandas-docs/stable/reference/api/pandas.DataFrame.select_dtypes.html?highlight=select_dtypes#pandas.DataFrame.select_dtypes). \n",
    "Een tekstuele waarde wordt in een dataframe steeds als een object dtype.\n",
    "Hoeveel kolommen zijn er van elk?\n",
    "Splits daarna het dataframe met de numerieke data ook nog eens in discrete of continue waarden."
   ]
  },
  {
   "cell_type": "code",
   "execution_count": null,
   "id": "a278cc7e",
   "metadata": {},
   "outputs": [],
   "source": []
  },
  {
   "cell_type": "markdown",
   "id": "baf44548",
   "metadata": {},
   "source": [
    "### Unieke waarden\n",
    "\n",
    "Naast het bekijken van wat voor type data we beschikbaar hebben, kan er ook gekeken worden naar hoeveel unieke waarden elke categorie bevat. \n",
    "Dit kan door voor elke categorieke kolom, een bar plot te laten tekenen met behulp van de functie [plot.bar()](https://pandas.pydata.org/docs/reference/api/pandas.DataFrame.plot.bar.html). \n",
    "Deze methode maakt gebruik van de standaard plotting tools van pandas, welke een wrapper zijn voor de functionaliteiten van de library [matplotlib](https://matplotlib.org/).\n",
    "Voor het maken van ingewikkelde plots kan het zijn dat je ook zaken rechtstreeks uit die library nodig hebt.\n",
    "Daarnaast bestaat er ook nog de library [seaborn](https://seaborn.pydata.org/index.html) die gebouwd is boven op matplotlib en goed geintegreerd is met pandas. \n",
    "\n",
    "Na het plotten van de unieke waarden van alle kolommen, kies een kolom met categorieke data uit en maak een barplot waar elke bar weergeeft hoe frequent deze waarde voorkomt, gebruik hiervoor de functie [value_counts](https://pandas.pydata.org/pandas-docs/stable/reference/api/pandas.DataFrame.value_counts.html). \n",
    "Probeer er ook een pie chart van te maken met behulp van deze links voor [pandas](https://pandas.pydata.org/docs/reference/api/pandas.DataFrame.plot.pie.html) of [seaborn]()\n"
   ]
  },
  {
   "cell_type": "code",
   "execution_count": null,
   "id": "a2100a89",
   "metadata": {},
   "outputs": [],
   "source": []
  },
  {
   "cell_type": "code",
   "execution_count": null,
   "id": "0a30e3c1",
   "metadata": {},
   "outputs": [],
   "source": []
  },
  {
   "cell_type": "markdown",
   "id": "d3903d30",
   "metadata": {},
   "source": [
    "Oefening: Maak door gebruik te maken van explode en labels en startangle argumenten de volgende figuur waarin de verdeling van de \"OverallQual\" kolom getoond wordt, zo goed als mogelijk na met behulp van matplotlib. \n",
    "Merk op dat deze kolom numerieke waarden (0 tot en met 10) bevat en dus niet in de categorieke data zit. De labels kunnen echter omgezet worden op basis van de waarden uit het txt-bestand. Meer informatie over het op te bouwen van een pie chart vind je [hier](https://matplotlib.org/stable/api/_as_gen/matplotlib.pyplot.pie.html) en de standaard kleurcombinaties vind je [hier](https://matplotlib.org/stable/tutorials/colors/colormaps.html)\n",
    "\n",
    "![Example](example1.png)"
   ]
  },
  {
   "cell_type": "code",
   "execution_count": null,
   "id": "73357215",
   "metadata": {},
   "outputs": [],
   "source": []
  },
  {
   "cell_type": "markdown",
   "id": "c1f2fc50",
   "metadata": {},
   "source": [
    "### Statistische waarden\n",
    "\n",
    "We hebben reeds gezien dat een heel aantal statische waarden berekend worden voor numerieke kolommen door de functie describe(), namelijk het gemiddelde en mediaan (de 50%) wordt berekend, de standaardafwijking en de variante (kwadraat van de std), minimum en maximum. Er zijn echter nog twee zaken die ontbreken, namelijk de lowerThresholdOutlier en UpperThresholdOutlier (welke berekend kunnen worden door respectievelijk het eerste of laatste kwartiel te verlagen of verhogen met 1,5 keer de interkwartielafstand). Doe dit nu en combineer het met het resultaat in een dataframe."
   ]
  },
  {
   "cell_type": "code",
   "execution_count": null,
   "id": "d583e93e",
   "metadata": {},
   "outputs": [],
   "source": []
  },
  {
   "cell_type": "markdown",
   "id": "7fabb8e7",
   "metadata": {},
   "source": [
    "Maak nu op basis van dit dataframe een bar plot dat het gemiddelde, standaardafwijking, de drie kwartielen en de upper/lower threshold toont voor de kolommen LotArea en TotalBsmtSF."
   ]
  },
  {
   "cell_type": "code",
   "execution_count": null,
   "id": "ec0715f5",
   "metadata": {},
   "outputs": [],
   "source": []
  },
  {
   "cell_type": "markdown",
   "id": "d43f4647",
   "metadata": {},
   "source": [
    "Om de verdeling van een kolom met numerieke waarde te bekijken, kan er ook een histogram gemaakt worden.\n",
    "Doe dit nu voor de kolommen LotArea en YearBuilt"
   ]
  },
  {
   "cell_type": "code",
   "execution_count": null,
   "id": "dc6e1be6",
   "metadata": {},
   "outputs": [],
   "source": []
  },
  {
   "cell_type": "markdown",
   "id": "18df07e2",
   "metadata": {},
   "source": [
    "### Verband tussen variabelen\n",
    "\n",
    "Door de statistische waarden en distributies van verschillende kolommen te vergelijken is het moeilijk om te bepalen welke kolommen belangrijk zijn om je vraag op te lossen. \n",
    "Ook is het moeilijk om het verband tussen verschillende features te bepalen. \n",
    "In het volgende deel wordt er gefocused om dit verband te bestuderen en te bepalen. \n",
    "\n",
    "#### ScatterPlots\n",
    "\n",
    "Een eerste manier is dit verband te bestuderen is door middel van scatter plots.\n",
    "Dit geeft het verband tussen twee features. \n",
    "Doe dit nu voor de features GrLivArea en SalePrice en voor de features TotalBsmtSF en SalePrice.\n",
    "Indien je een derde feature wil erbij betrekken kan dit doen door de markers een andere kleur/symbool/grootte te geven op basis van een derde feature. \n",
    "In sommige gevallen kan dit bruikbare data geven maar dit gaat niet altijd het geval zijn.\n",
    "\n",
    "Oefening: We hebben reeds gezien dat de er een aantal heel grote gronden zijn verkocht. Maak nu een scatterplot van de LotArea, beperkt tot gronden kleiner dan 15000"
   ]
  },
  {
   "cell_type": "code",
   "execution_count": null,
   "id": "035c3f97",
   "metadata": {
    "scrolled": false
   },
   "outputs": [],
   "source": []
  },
  {
   "cell_type": "markdown",
   "id": "4fff8602",
   "metadata": {},
   "source": [
    "#### Correlation matrix\n",
    "\n",
    "Een correlatie matrix bevat de correlatie tussen alle mogelijke combinaties van twee willekeurige kolommen met numerieke waarden.\n",
    "Deze kan berekend worden doormiddel van de [corr()](https://pandas.pydata.org/docs/reference/api/pandas.DataFrame.corr.html) functie en getoond worden met behulp van [matshow()](https://matplotlib.org/stable/api/_as_gen/matplotlib.pyplot.matshow.html).\n",
    "Dit geeft het volgende resultaat:"
   ]
  },
  {
   "cell_type": "code",
   "execution_count": null,
   "id": "9b888eff",
   "metadata": {
    "scrolled": false
   },
   "outputs": [],
   "source": []
  },
  {
   "cell_type": "markdown",
   "id": "fa56ae3e",
   "metadata": {},
   "source": [
    "Merk op dat de correlatie op de diagonaal altijd 1 is (dit komt door de definitie van correlatie).\n",
    "Als we daarnaast eens kijken naar de correlatie van de SalePrice - dan zien we dat die sterk gecontroleerd is door de Overall Quality van het huis, de grootte van het huis en de grootte van de garage. \n",
    "\n",
    "Oefening: Maak een bar-plot die de gemiddelde SalePrice weergeeft van elke categorie van OverallQuall. Zorg ervoor dat de labels gecorrigeerd zijn (niet de numerieke waarden maar de categorie)"
   ]
  },
  {
   "cell_type": "code",
   "execution_count": null,
   "id": "8f770a21",
   "metadata": {},
   "outputs": [],
   "source": []
  },
  {
   "cell_type": "markdown",
   "id": "c84ac05a",
   "metadata": {},
   "source": [
    "Als we nu de belangrijkste features willen detecteren voor het voorspellen van de SalePrice moeten we kijken naar de kolom of rij van de SalePrice in de correlation matrix. \n",
    "We kunnen de correlatie-waarden van de SalePrice kolom afzonderlijk tonen in een bar-plot.\n",
    "Dit kan ook gedaan worden voor de categorieke data, maar dan moeten wel eerst alle labels omgezet worden naar getallen (numerieke waarden).\n",
    "Hiervoor kan de [OrdinalEncoder]() van sklearn gebruikt worden."
   ]
  },
  {
   "cell_type": "code",
   "execution_count": null,
   "id": "23f19cce",
   "metadata": {},
   "outputs": [],
   "source": []
  },
  {
   "cell_type": "markdown",
   "id": "7893cde5",
   "metadata": {},
   "source": [
    "Daarnaas kan een pairplot ook veel informatie opleveren. Een pairplot is net zoals een correlation matrix een figuur waar elke combinatie van twee parameters bekeken wordt. In plaats van de correlatie te bestuderen wordt er een scatter plot gemaakt. Dit kan weergeven welk verband er is tussen deze twee parameters. Hoe beter deze plots een curve maken, hoe beter de ze elkaar gaan voorspellen/ hoe hoger de correlatie. Meer informatie hierover vind je [hier](https://seaborn.pydata.org/generated/seaborn.pairplot.html). Aangezien de diagonale de combinatie tonen van slechts 1 parameter worden hierbij de histogrammen getekend van de verschillende parameters."
   ]
  },
  {
   "cell_type": "code",
   "execution_count": null,
   "id": "bd5612ec",
   "metadata": {},
   "outputs": [],
   "source": []
  },
  {
   "cell_type": "markdown",
   "id": "f89f0ceb",
   "metadata": {},
   "source": [
    "### Outlier detection\n",
    "\n",
    "We hebben reeds al aangehaald in het bovenstaande dat er redelijk wat outliers aanwezig zijn in deze dataset.\n",
    "Daarvoor hebben we de upper en lower thresholds berekend voor de numerieke features.\n",
    "Dit kan op de volgende manier:"
   ]
  },
  {
   "cell_type": "code",
   "execution_count": null,
   "id": "63fcc683",
   "metadata": {},
   "outputs": [],
   "source": []
  },
  {
   "cell_type": "markdown",
   "id": "fb683bb6",
   "metadata": {},
   "source": [
    "Oefening: Maak een boxplot van LotFrontage om de outliers in meer detail te zien.\n",
    "\n",
    "Oefening: In plaats van kwartielen te gebruiken, bereken het aantal outliers door te kijken naar 20% en 80% van het maximum als lower en upper threshold."
   ]
  },
  {
   "cell_type": "code",
   "execution_count": null,
   "id": "1ff682f5",
   "metadata": {},
   "outputs": [],
   "source": []
  },
  {
   "cell_type": "code",
   "execution_count": null,
   "id": "bc862158",
   "metadata": {},
   "outputs": [],
   "source": []
  },
  {
   "cell_type": "code",
   "execution_count": null,
   "id": "5ba2d17b",
   "metadata": {},
   "outputs": [],
   "source": []
  }
 ],
 "metadata": {
  "kernelspec": {
   "display_name": "Python 3.10.5 64-bit",
   "language": "python",
   "name": "python3"
  },
  "language_info": {
   "codemirror_mode": {
    "name": "ipython",
    "version": 3
   },
   "file_extension": ".py",
   "mimetype": "text/x-python",
   "name": "python",
   "nbconvert_exporter": "python",
   "pygments_lexer": "ipython3",
   "version": "3.10.5"
  },
  "vscode": {
   "interpreter": {
    "hash": "d5e8e3a19af5ceb2434683dff87da6345c3b29f7eb0a8a138558c07d014a01cc"
   }
  }
 },
 "nbformat": 4,
 "nbformat_minor": 5
}
