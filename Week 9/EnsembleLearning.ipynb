{
 "cells": [
  {
   "cell_type": "markdown",
   "id": "1ddce491",
   "metadata": {},
   "source": [
    "# Ensemble learning\n",
    "\n",
    "Ensemble learning is een manier om meerdere machine learning algorithmes te gaan combineren om een beter resultaat te bekomen.\n",
    "Een voorbeeld hiervan is Random Forest dat een ensemble is van een aantal decision trees. \n",
    "Een belangrijke opmerking hierbij is dat meerdere soorten machine learning algoritmes gecombineerd kunnen worden.\n",
    "Er zijn hier drie bekende varianten van, namelijk:\n",
    "* Stacking\n",
    "* Bagging\n",
    "* Boosting\n",
    "\n",
    "Deze varianten gaan we nu 1 voor 1 behandelen.\n",
    "\n",
    "# Stacking \n",
    "\n",
    "Een schets van hoe een stacking-ensemble werkt zie je hieronder.\n",
    "Bij de stacking-methode wordt de volledige trainingsdata gebruikt om meerdere modellen te trainen.\n",
    "Deze kunnen maar moeten niet van hetzelfde algoritme zijn en ook de hyperparameters kunnen verschillen.\n",
    "Nadat al deze modellen getrained zijn, wordt er nog model getrained dat een selectie maakt van wat de uiteindelijke voorspelling is op basis van de uitkomst van alle getrainde modellen.\n",
    "Dit tweede model kan dus evalueren wanneer welk model het meest correct is.\n",
    "Het algoritme hiervoor kan vrij gekozen worden en kan zelfs een ander ensemble zijn.\n",
    "Bij stacking is dus niet strikt majority voting van toepassing.\n",
    "\n",
    "![ensemble](images\\stacking.png)\n",
    "\n",
    "Een [stacking ensemble](https://scikit-learn.org/stable/modules/generated/sklearn.ensemble.StackingClassifier.html) kan als volgt geimplementeerd worden in sklearn:"
   ]
  },
  {
   "cell_type": "code",
   "execution_count": 1,
   "id": "36d42fd8",
   "metadata": {},
   "outputs": [],
   "source": [
    "from sklearn.datasets import load_iris\n",
    "from sklearn.ensemble import RandomForestClassifier\n",
    "from sklearn.linear_model import LogisticRegression\n",
    "from sklearn.svm import SVC\n",
    "from sklearn.preprocessing import StandardScaler\n",
    "from sklearn.neighbors import KNeighborsClassifier\n",
    "from sklearn.ensemble import StackingClassifier\n",
    "from sklearn.model_selection import train_test_split\n",
    "\n",
    "X, y = load_iris(return_X_y=True)\n",
    "scaler = StandardScaler()\n",
    "X = scaler.fit_transform(X)"
   ]
  },
  {
   "cell_type": "markdown",
   "id": "b4f8dc6a",
   "metadata": {},
   "source": [
    "# Bagging\n",
    "\n",
    "De tweede methode bagging is ook gekend onder de naam bootstrap bagging.\n",
    "Dit houdt in dat elk model slechts getrained wordt op een deel van de data (bootstrapped samples).\n",
    "Deze observaties om elk model te trainen worden willekeurig gekozen met teruglegging.\n",
    "Typisch wordt er ongeveer 60% van de totale data gebruikt om elk model te trainen.\n",
    "Wanneer elk model getrained is wordt er een standaard majority voting toegepast om de uiteindelijke predictie te bekomen (bij regressie wordt er het gemiddelde genomen).\n",
    "\n",
    "![bagging](images\\bagging.png)\n",
    "\n",
    "Een belangrijke opmerking is dat theoretisch gezien meerdere types van machine learning algoritmes gecombineerd kunnen worden maar dit dit niet rechtstreeks gaat met sklearn zonder zelf een ensemble te implementeren. \n",
    "Dit is ook niet nodig omdat zolang je ensemble groot genoeg is, je elke gewenste accuraatheid kan bereiken.\n",
    "Een implementatie van de [bagging methode](https://scikit-learn.org/stable/modules/generated/sklearn.ensemble.BaggingClassifier.html) ziet er als volgt uit:"
   ]
  },
  {
   "cell_type": "code",
   "execution_count": 6,
   "id": "ced313ed",
   "metadata": {},
   "outputs": [
    {
     "name": "stdout",
     "output_type": "stream",
     "text": [
      "Wall time: 16 ms\n",
      "Wall time: 3 ms\n"
     ]
    },
    {
     "data": {
      "text/plain": [
       "0.01500082015991211"
      ]
     },
     "execution_count": 6,
     "metadata": {},
     "output_type": "execute_result"
    }
   ],
   "source": [
    "# create bagging classifier"
   ]
  },
  {
   "cell_type": "markdown",
   "id": "e51c54da",
   "metadata": {},
   "source": [
    "# Boosting\n",
    "\n",
    "De derde variant van ensemble learning methoden is boosting.\n",
    "Dit is een aanpassing van de bagging methode waar de bootstrapped samples niet meer willekeurig zijn.\n",
    "Bij boosting worden de modellen sequentieel getrained en gevalideerd (met de trainingsdata diet niet in de bootstrapped sample zit). \n",
    "De classificaties die verkeerd waren bij deze validatie stap hebben een grotere kans om in de bootstrapped sample te zitten van het volgende model.\n",
    "Omdat de uitkomst van elk model nodig is voor het volgende kan dit niet geparallelliseerd worden waardoor de trainingstijd snel kan oplopen.\n",
    "Het voordeel echter van deze methode is dat de accuraatheid van het gecombineerde model hoger gaat zijn dan bij bagging.\n",
    "De meest bekende implementatie van deze methode wordt AdaBoost genoemd.\n",
    "Daarnaast wordt tegenwoordig ook XGBoost benoemd wat staat voor Extreme Gradient Boosting.\n",
    "Het probleem is echter dat deze techniek niet standaard in sklearn staat.\n",
    "Hiervoor moet een extra package toegevoegd worden, meer informatie hierover vind je [hier](https://towardsdatascience.com/getting-started-with-xgboost-in-scikit-learn-f69f5f470a97).\n",
    "Deze techniek is een speciale variant van een random forest (er wordt gewerkt met meerdere decision trees).\n",
    "Meer informatie over de api vind je [hier](https://xgboost.readthedocs.io/en/latest/python/python_api.html#xgboost.XGBClassifier).\n",
    "De voordelen van xgboost zijn:\n",
    "* Hoge accuraatheid\n",
    "* Heel snelle uitvoering door parallellisatie\n",
    "* Flexibel algoritme door keuse van optimalisatie\n",
    "* Kan omgaan met missing data\n",
    "* Voert autmatisch pruning uit om overfitting tegen te gaan\n",
    "* Ingebouwde cross-validatie\n",
    "\n",
    "![boosting](images\\boosting.png)\n",
    "\n",
    " Een implementatie van de [boosting methode](https://scikit-learn.org/stable/modules/generated/sklearn.ensemble.AdaBoostClassifier.html#sklearn.ensemble.AdaBoostClassifier) ziet er als volgt uit:"
   ]
  },
  {
   "cell_type": "code",
   "execution_count": 4,
   "id": "b3d728e8",
   "metadata": {},
   "outputs": [
    {
     "data": {
      "text/plain": [
       "0.868421052631579"
      ]
     },
     "execution_count": 4,
     "metadata": {},
     "output_type": "execute_result"
    }
   ],
   "source": [
    "# create bagging classifier"
   ]
  },
  {
   "cell_type": "markdown",
   "id": "b0eebbd1",
   "metadata": {},
   "source": [
    "Meer informatie over alle mogelijke ensemble-methoden in sklearn vind je [hier](https://scikit-learn.org/stable/modules/classes.html#module-sklearn.ensemble)."
   ]
  },
  {
   "cell_type": "markdown",
   "id": "943df106",
   "metadata": {},
   "source": [
    "# XGBoost\n",
    "\n",
    "Gradient Boosting is een ML-techniek die iteratief modellen toevoegt aan een ensemble.\n",
    "Er wordt begonnen met een eenvoudig model dat zeer naief is.\n",
    "De voorspellingen van dit model worden gebruikt om een kost-functie te berekenen.\n",
    "Deze functie wordt dan gebruikt voor een nieuw model te trainen dat toegevoegd aan het ensemble.\n",
    "De parameters van dit nieuwe model worden zo gekozen dat de kost-functie verminderd.\n",
    "Met dit uitgebreide ensemble worden opnieuw voorspelling gedaan die het dan terug gebruikt worden om een kostfunctie te berekenen.\n",
    "\n",
    "De belangrijkste parameters van deze techniek zijn:\n",
    "* n_estimators: Geeft het maximum aantal bomen in het ensemble weer. Een lage waarde kan leiden tot underfitting, een grote tot overfitting.\n",
    "* learning rate: Dit kan gebruikt zorden om de impact van extra bomen te verkleinen om overfitting tegen te gaan. Lagere waarden gaan normaal een hogere accuraatheid maar ook een hogere trainingstijd opleveren.\n",
    "* early stopping: Deze parameter moet meegegeven worden bij het fitten en kan gebruikt worden om overfitting tegen te gaan. Indien de validation score niet afneemt gedurende dit aantal rondes, dan stopt de fit-functie omdat er overfitting gedetecteerd wordt.\n",
    "* eval_set: Deze parameter is een tuple van de validatieset dat gebruikt kan worden voor het early-stopping te testen. Deze moet dus met early-stopping gecombineerd worden.\n",
    "* n_jobs: aantal cores dat kan gebruikt worden voor de training\n",
    "\n",
    "\n",
    "Meer informatie over de parameters van deze techniek vind je [hier](https://xgboost.readthedocs.io/en/latest/python/python_api.html#module-xgboost.sklearn)."
   ]
  },
  {
   "cell_type": "code",
   "execution_count": 2,
   "id": "f5dc1c3c",
   "metadata": {},
   "outputs": [],
   "source": [
    "# create xgboost classifier"
   ]
  },
  {
   "cell_type": "code",
   "execution_count": null,
   "id": "a4ebb626",
   "metadata": {},
   "outputs": [],
   "source": []
  }
 ],
 "metadata": {
  "kernelspec": {
   "display_name": "Python 3.10.5 64-bit",
   "language": "python",
   "name": "python3"
  },
  "language_info": {
   "codemirror_mode": {
    "name": "ipython",
    "version": 3
   },
   "file_extension": ".py",
   "mimetype": "text/x-python",
   "name": "python",
   "nbconvert_exporter": "python",
   "pygments_lexer": "ipython3",
   "version": "3.10.5"
  },
  "vscode": {
   "interpreter": {
    "hash": "d5e8e3a19af5ceb2434683dff87da6345c3b29f7eb0a8a138558c07d014a01cc"
   }
  }
 },
 "nbformat": 4,
 "nbformat_minor": 5
}
