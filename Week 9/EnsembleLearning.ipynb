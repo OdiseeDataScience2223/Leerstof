{
 "cells": [
  {
   "cell_type": "markdown",
   "id": "1ddce491",
   "metadata": {},
   "source": [
    "# Ensemble learning\n",
    "\n",
    "Ensemble learning is een manier om meerdere machine learning algorithmes te gaan combineren om een beter resultaat te bekomen.\n",
    "Een voorbeeld hiervan is Random Forest dat een ensemble is van een aantal decision trees. \n",
    "Een belangrijke opmerking hierbij is dat meerdere soorten machine learning algoritmes gecombineerd kunnen worden.\n",
    "Er zijn hier drie bekende varianten van, namelijk:\n",
    "* Stacking\n",
    "* Bagging\n",
    "* Boosting\n",
    "\n",
    "Deze varianten gaan we nu 1 voor 1 behandelen.\n",
    "\n",
    "# Stacking \n",
    "\n",
    "Een schets van hoe een stacking-ensemble werkt zie je hieronder.\n",
    "Bij de stacking-methode wordt de volledige trainingsdata gebruikt om meerdere modellen te trainen.\n",
    "Deze kunnen maar moeten niet van hetzelfde algoritme zijn en ook de hyperparameters kunnen verschillen.\n",
    "Nadat al deze modellen getrained zijn, wordt er nog model getrained dat een selectie maakt van wat de uiteindelijke voorspelling is op basis van de uitkomst van alle getrainde modellen.\n",
    "Dit tweede model kan dus evalueren wanneer welk model het meest correct is.\n",
    "Het algoritme hiervoor kan vrij gekozen worden en kan zelfs een ander ensemble zijn.\n",
    "Bij stacking is dus niet strikt majority voting van toepassing.\n",
    "\n",
    "![ensemble](images\\stacking.png)\n",
    "\n",
    "Een [stacking ensemble](https://scikit-learn.org/stable/modules/generated/sklearn.ensemble.StackingClassifier.html) kan als volgt geimplementeerd worden in sklearn:"
   ]
  },
  {
   "cell_type": "code",
   "execution_count": 5,
   "id": "36d42fd8",
   "metadata": {},
   "outputs": [
    {
     "name": "stdout",
     "output_type": "stream",
     "text": [
      "CPU times: total: 3.73 s\n",
      "Wall time: 3.76 s\n",
      "CPU times: total: 125 ms\n",
      "Wall time: 134 ms\n"
     ]
    },
    {
     "data": {
      "text/plain": [
       "0.9666666666666667"
      ]
     },
     "execution_count": 5,
     "metadata": {},
     "output_type": "execute_result"
    }
   ],
   "source": [
    "from sklearn.datasets import load_iris\n",
    "from sklearn.ensemble import RandomForestClassifier\n",
    "from sklearn.linear_model import LogisticRegression\n",
    "from sklearn.svm import SVC\n",
    "from sklearn.preprocessing import StandardScaler\n",
    "from sklearn.neighbors import KNeighborsClassifier\n",
    "from sklearn.ensemble import StackingClassifier\n",
    "from sklearn.model_selection import train_test_split\n",
    "\n",
    "X, y = load_iris(return_X_y=True)\n",
    "\n",
    "X_train, X_test, y_train, y_test = train_test_split(X,y, test_size=0.2)\n",
    "\n",
    "scaler = StandardScaler()\n",
    "X_train = scaler.fit_transform(X_train)\n",
    "X_test = scaler.transform(X_test)\n",
    "\n",
    "estimators = [\n",
    "    (\"rf\", RandomForestClassifier(n_estimators=1000)),\n",
    "    (\"lr\", LogisticRegression(C=100)),\n",
    "    (\"knn\", KNeighborsClassifier()),\n",
    "    (\"svm\", SVC(C=10))\n",
    "]\n",
    "\n",
    "stack = StackingClassifier(estimators, LogisticRegression(), passthrough=True)  # passthrough (data ook naar de final estimator)\n",
    "%time stack.fit(X_train, y_train)\n",
    "%time stack.score(X_test,y_test)"
   ]
  },
  {
   "cell_type": "markdown",
   "id": "b4f8dc6a",
   "metadata": {},
   "source": [
    "# Bagging\n",
    "\n",
    "De tweede methode bagging is ook gekend onder de naam bootstrap bagging.\n",
    "Dit houdt in dat elk model slechts getrained wordt op een deel van de data (bootstrapped samples).\n",
    "Deze observaties om elk model te trainen worden willekeurig gekozen met teruglegging.\n",
    "Typisch wordt er ongeveer 60% van de totale data gebruikt om elk model te trainen.\n",
    "Wanneer elk model getrained is wordt er een standaard majority voting toegepast om de uiteindelijke predictie te bekomen (bij regressie wordt er het gemiddelde genomen).\n",
    "\n",
    "![bagging](images\\bagging.png)\n",
    "\n",
    "Een belangrijke opmerking is dat theoretisch gezien meerdere types van machine learning algoritmes gecombineerd kunnen worden maar dit dit niet rechtstreeks gaat met sklearn zonder zelf een ensemble te implementeren. \n",
    "Dit is ook niet nodig omdat zolang je ensemble groot genoeg is, je elke gewenste accuraatheid kan bereiken.\n",
    "Een implementatie van de [bagging methode](https://scikit-learn.org/stable/modules/generated/sklearn.ensemble.BaggingClassifier.html) ziet er als volgt uit:"
   ]
  },
  {
   "cell_type": "code",
   "execution_count": 11,
   "id": "ced313ed",
   "metadata": {},
   "outputs": [
    {
     "name": "stdout",
     "output_type": "stream",
     "text": [
      "CPU times: total: 172 ms\n",
      "Wall time: 171 ms\n",
      "CPU times: total: 15.6 ms\n",
      "Wall time: 25 ms\n",
      "0.16488289833068848\n"
     ]
    }
   ],
   "source": [
    "# create bagging classifier\n",
    "from sklearn.ensemble import BaggingClassifier\n",
    "\n",
    "bagging = BaggingClassifier(SVC(), n_estimators=200, max_samples=0.6, max_features=0.4)\n",
    "\n",
    "%time bagging.fit(X_train, y_train)\n",
    "%time bagging.score(X_test, y_test)\n",
    "\n",
    "import time\n",
    "start = time.time()\n",
    "bagging.fit(X_train, y_train)\n",
    "end = time.time()\n",
    "print(end-start)"
   ]
  },
  {
   "cell_type": "markdown",
   "id": "e51c54da",
   "metadata": {},
   "source": [
    "# Boosting\n",
    "\n",
    "De derde variant van ensemble learning methoden is boosting.\n",
    "Dit is een aanpassing van de bagging methode waar de bootstrapped samples niet meer willekeurig zijn.\n",
    "Bij boosting worden de modellen sequentieel getrained en gevalideerd (met de trainingsdata diet niet in de bootstrapped sample zit). \n",
    "De classificaties die verkeerd waren bij deze validatie stap hebben een grotere kans om in de bootstrapped sample te zitten van het volgende model.\n",
    "Omdat de uitkomst van elk model nodig is voor het volgende kan dit niet geparallelliseerd worden waardoor de trainingstijd snel kan oplopen.\n",
    "Het voordeel echter van deze methode is dat de accuraatheid van het gecombineerde model hoger gaat zijn dan bij bagging.\n",
    "De meest bekende implementatie van deze methode wordt AdaBoost genoemd.\n",
    "Daarnaast wordt tegenwoordig ook XGBoost benoemd wat staat voor Extreme Gradient Boosting.\n",
    "Het probleem is echter dat deze techniek niet standaard in sklearn staat.\n",
    "Hiervoor moet een extra package toegevoegd worden, meer informatie hierover vind je [hier](https://towardsdatascience.com/getting-started-with-xgboost-in-scikit-learn-f69f5f470a97).\n",
    "Deze techniek is een speciale variant van een random forest (er wordt gewerkt met meerdere decision trees).\n",
    "Meer informatie over de api vind je [hier](https://xgboost.readthedocs.io/en/latest/python/python_api.html#xgboost.XGBClassifier).\n",
    "De voordelen van xgboost zijn:\n",
    "* Hoge accuraatheid\n",
    "* Heel snelle uitvoering door parallellisatie\n",
    "* Flexibel algoritme door keuse van optimalisatie\n",
    "* Kan omgaan met missing data\n",
    "* Voert autmatisch pruning uit om overfitting tegen te gaan\n",
    "* Ingebouwde cross-validatie\n",
    "\n",
    "![boosting](images\\boosting.png)\n",
    "\n",
    " Een implementatie van de [boosting methode](https://scikit-learn.org/stable/modules/generated/sklearn.ensemble.AdaBoostClassifier.html#sklearn.ensemble.AdaBoostClassifier) ziet er als volgt uit:"
   ]
  },
  {
   "cell_type": "code",
   "execution_count": 17,
   "id": "b3d728e8",
   "metadata": {},
   "outputs": [
    {
     "name": "stdout",
     "output_type": "stream",
     "text": [
      "CPU times: total: 15.6 ms\n",
      "Wall time: 8.98 ms\n",
      "CPU times: total: 15.6 ms\n",
      "Wall time: 10 ms\n",
      "0.008998632431030273\n"
     ]
    },
    {
     "data": {
      "text/plain": [
       "0.9333333333333333"
      ]
     },
     "execution_count": 17,
     "metadata": {},
     "output_type": "execute_result"
    }
   ],
   "source": [
    "# create bagging classifier\n",
    "from sklearn.ensemble import AdaBoostClassifier\n",
    "from sklearn.tree import DecisionTreeClassifier\n",
    "\n",
    "boosting = AdaBoostClassifier(DecisionTreeClassifier(), n_estimators=2000000, algorithm='SAMME')\n",
    "\n",
    "%time boosting.fit(X_train, y_train)\n",
    "%time boosting.score(X_test, y_test)\n",
    "\n",
    "import time\n",
    "start = time.time()\n",
    "boosting.fit(X_train, y_train)\n",
    "end = time.time()\n",
    "print(end-start)\n",
    "boosting.score(X_test, y_test)"
   ]
  },
  {
   "cell_type": "markdown",
   "id": "b0eebbd1",
   "metadata": {},
   "source": [
    "Meer informatie over alle mogelijke ensemble-methoden in sklearn vind je [hier](https://scikit-learn.org/stable/modules/classes.html#module-sklearn.ensemble)."
   ]
  },
  {
   "cell_type": "markdown",
   "id": "943df106",
   "metadata": {},
   "source": [
    "# XGBoost\n",
    "\n",
    "Gradient Boosting is een ML-techniek die iteratief modellen toevoegt aan een ensemble.\n",
    "Er wordt begonnen met een eenvoudig model dat zeer naief is.\n",
    "De voorspellingen van dit model worden gebruikt om een kost-functie te berekenen.\n",
    "Deze functie wordt dan gebruikt voor een nieuw model te trainen dat toegevoegd aan het ensemble.\n",
    "De parameters van dit nieuwe model worden zo gekozen dat de kost-functie verminderd.\n",
    "Met dit uitgebreide ensemble worden opnieuw voorspelling gedaan die het dan terug gebruikt worden om een kostfunctie te berekenen.\n",
    "\n",
    "De belangrijkste parameters van deze techniek zijn:\n",
    "* n_estimators: Geeft het maximum aantal bomen in het ensemble weer. Een lage waarde kan leiden tot underfitting, een grote tot overfitting.\n",
    "* learning rate: Dit kan gebruikt zorden om de impact van extra bomen te verkleinen om overfitting tegen te gaan. Lagere waarden gaan normaal een hogere accuraatheid maar ook een hogere trainingstijd opleveren.\n",
    "* early stopping: Deze parameter moet meegegeven worden bij het fitten en kan gebruikt worden om overfitting tegen te gaan. Indien de validation score niet afneemt gedurende dit aantal rondes, dan stopt de fit-functie omdat er overfitting gedetecteerd wordt.\n",
    "* eval_set: Deze parameter is een tuple van de validatieset dat gebruikt kan worden voor het early-stopping te testen. Deze moet dus met early-stopping gecombineerd worden.\n",
    "* n_jobs: aantal cores dat kan gebruikt worden voor de training\n",
    "\n",
    "\n",
    "Meer informatie over de parameters van deze techniek vind je [hier](https://xgboost.readthedocs.io/en/latest/python/python_api.html#module-xgboost.sklearn)."
   ]
  },
  {
   "cell_type": "code",
   "execution_count": 20,
   "id": "f5dc1c3c",
   "metadata": {},
   "outputs": [
    {
     "name": "stdout",
     "output_type": "stream",
     "text": [
      "[0]\tvalidation_0-mlogloss:1.03254\n",
      "[1]\tvalidation_0-mlogloss:0.97194\n",
      "[2]\tvalidation_0-mlogloss:0.91617\n",
      "[3]\tvalidation_0-mlogloss:0.86469\n",
      "[4]\tvalidation_0-mlogloss:0.81704\n",
      "[5]\tvalidation_0-mlogloss:0.77284\n",
      "[6]\tvalidation_0-mlogloss:0.73175\n",
      "[7]\tvalidation_0-mlogloss:0.69437\n",
      "[8]\tvalidation_0-mlogloss:0.65869\n",
      "[9]\tvalidation_0-mlogloss:0.62608\n",
      "[10]\tvalidation_0-mlogloss:0.59565\n",
      "[11]\tvalidation_0-mlogloss:0.56786\n",
      "[12]\tvalidation_0-mlogloss:0.54123\n",
      "[13]\tvalidation_0-mlogloss:0.51617\n",
      "[14]\tvalidation_0-mlogloss:0.49337\n",
      "[15]\tvalidation_0-mlogloss:0.47126\n",
      "[16]\tvalidation_0-mlogloss:0.45060\n",
      "[17]\tvalidation_0-mlogloss:0.43106\n",
      "[18]\tvalidation_0-mlogloss:0.41334\n",
      "[19]\tvalidation_0-mlogloss:0.39601\n",
      "[20]\tvalidation_0-mlogloss:0.37898\n",
      "[21]\tvalidation_0-mlogloss:0.36343\n",
      "[22]\tvalidation_0-mlogloss:0.34837\n",
      "[23]\tvalidation_0-mlogloss:0.33509\n",
      "[24]\tvalidation_0-mlogloss:0.32311\n",
      "[25]\tvalidation_0-mlogloss:0.31092\n",
      "[26]\tvalidation_0-mlogloss:0.30030\n",
      "[27]\tvalidation_0-mlogloss:0.28942\n",
      "[28]\tvalidation_0-mlogloss:0.27862\n",
      "[29]\tvalidation_0-mlogloss:0.26976\n",
      "[30]\tvalidation_0-mlogloss:0.26057\n",
      "[31]\tvalidation_0-mlogloss:0.25140\n",
      "[32]\tvalidation_0-mlogloss:0.24271\n",
      "[33]\tvalidation_0-mlogloss:0.23448\n",
      "[34]\tvalidation_0-mlogloss:0.22668\n",
      "[35]\tvalidation_0-mlogloss:0.21928\n",
      "[36]\tvalidation_0-mlogloss:0.21226\n",
      "[37]\tvalidation_0-mlogloss:0.20561\n",
      "[38]\tvalidation_0-mlogloss:0.19894\n",
      "[39]\tvalidation_0-mlogloss:0.19317\n",
      "[40]\tvalidation_0-mlogloss:0.18713\n",
      "[41]\tvalidation_0-mlogloss:0.18194\n",
      "[42]\tvalidation_0-mlogloss:0.17702\n",
      "[43]\tvalidation_0-mlogloss:0.17240\n",
      "[44]\tvalidation_0-mlogloss:0.16797\n",
      "[45]\tvalidation_0-mlogloss:0.16381\n",
      "[46]\tvalidation_0-mlogloss:0.15928\n",
      "[47]\tvalidation_0-mlogloss:0.15550\n",
      "[48]\tvalidation_0-mlogloss:0.15195\n",
      "[49]\tvalidation_0-mlogloss:0.14855\n",
      "[50]\tvalidation_0-mlogloss:0.14534\n",
      "[51]\tvalidation_0-mlogloss:0.14229\n",
      "[52]\tvalidation_0-mlogloss:0.13886\n",
      "[53]\tvalidation_0-mlogloss:0.13612\n",
      "[54]\tvalidation_0-mlogloss:0.13352\n",
      "[55]\tvalidation_0-mlogloss:0.13106\n",
      "[56]\tvalidation_0-mlogloss:0.12872\n",
      "[57]\tvalidation_0-mlogloss:0.12618\n",
      "[58]\tvalidation_0-mlogloss:0.12430\n",
      "[59]\tvalidation_0-mlogloss:0.12329\n",
      "[60]\tvalidation_0-mlogloss:0.12224\n",
      "[61]\tvalidation_0-mlogloss:0.12128\n",
      "[62]\tvalidation_0-mlogloss:0.12042\n",
      "[63]\tvalidation_0-mlogloss:0.11965\n",
      "[64]\tvalidation_0-mlogloss:0.11896\n",
      "[65]\tvalidation_0-mlogloss:0.11835\n",
      "[66]\tvalidation_0-mlogloss:0.11793\n",
      "[67]\tvalidation_0-mlogloss:0.11758\n",
      "[68]\tvalidation_0-mlogloss:0.11728\n",
      "[69]\tvalidation_0-mlogloss:0.11704\n",
      "[70]\tvalidation_0-mlogloss:0.11686\n",
      "[71]\tvalidation_0-mlogloss:0.11653\n",
      "[72]\tvalidation_0-mlogloss:0.11645\n",
      "[73]\tvalidation_0-mlogloss:0.11623\n",
      "[74]\tvalidation_0-mlogloss:0.11606\n",
      "[75]\tvalidation_0-mlogloss:0.11593\n",
      "[76]\tvalidation_0-mlogloss:0.11568\n",
      "[77]\tvalidation_0-mlogloss:0.11544\n",
      "[78]\tvalidation_0-mlogloss:0.11525\n",
      "[79]\tvalidation_0-mlogloss:0.11521\n",
      "[80]\tvalidation_0-mlogloss:0.11520\n",
      "[81]\tvalidation_0-mlogloss:0.11526\n",
      "[82]\tvalidation_0-mlogloss:0.11530\n",
      "[83]\tvalidation_0-mlogloss:0.11536\n",
      "[84]\tvalidation_0-mlogloss:0.11567\n",
      "[85]\tvalidation_0-mlogloss:0.11600\n",
      "CPU times: total: 2.12 s\n",
      "Wall time: 255 ms\n"
     ]
    },
    {
     "data": {
      "text/plain": [
       "0.9666666666666667"
      ]
     },
     "execution_count": 20,
     "metadata": {},
     "output_type": "execute_result"
    }
   ],
   "source": [
    "# create xgboost classifier\n",
    "from xgboost import XGBClassifier\n",
    "\n",
    "xgb = XGBClassifier(n_estimators = 1000, learning_rate=0.05, early_stopping_rounds=5)\n",
    "\n",
    "%time xgb.fit(X_train, y_train, eval_set=[(X_test,y_test)])     # groot verschil tussen CPU times en wall time -> parallel algoritme\n",
    "xgb.score(X_test, y_test)"
   ]
  },
  {
   "cell_type": "code",
   "execution_count": null,
   "id": "a4ebb626",
   "metadata": {},
   "outputs": [],
   "source": []
  }
 ],
 "metadata": {
  "kernelspec": {
   "display_name": "Python 3.10.5 64-bit",
   "language": "python",
   "name": "python3"
  },
  "language_info": {
   "codemirror_mode": {
    "name": "ipython",
    "version": 3
   },
   "file_extension": ".py",
   "mimetype": "text/x-python",
   "name": "python",
   "nbconvert_exporter": "python",
   "pygments_lexer": "ipython3",
   "version": "3.10.5"
  },
  "vscode": {
   "interpreter": {
    "hash": "d5e8e3a19af5ceb2434683dff87da6345c3b29f7eb0a8a138558c07d014a01cc"
   }
  }
 },
 "nbformat": 4,
 "nbformat_minor": 5
}
